{
 "cells": [
  {
   "cell_type": "markdown",
   "metadata": {},
   "source": [
    "# 变量选择的各种准则\n",
    "* 一般来说，系数估计不是无偏的"
   ]
  },
  {
   "cell_type": "code",
   "execution_count": 1,
   "metadata": {},
   "outputs": [],
   "source": [
    "import pandas as pd\n",
    "import numpy as np\n",
    "import matplotlib.pyplot as plt\n",
    "import statsmodels.api as sm\n",
    "import statsmodels.formula.api as smf\n",
    "import scipy.stats as st\n",
    "from statsmodels.stats.outliers_influence import variance_inflation_factor\n",
    "np.set_printoptions(suppress=True)"
   ]
  },
  {
   "cell_type": "markdown",
   "metadata": {},
   "source": [
    "## 1.残差均方准则RMS\n",
    "* 着重模型的预测能力"
   ]
  },
  {
   "cell_type": "markdown",
   "metadata": {},
   "source": [
    "## 2.Cp准则\n",
    "* 更关心MSE，既关心偏倚程度，又关心方差大小\n",
    "* 但必须保证全模型残差的精度够高，否则Cp值会被扭曲"
   ]
  },
  {
   "cell_type": "markdown",
   "metadata": {},
   "source": [
    "## 3.信息准则\n",
    "* 更关心模型的简约性\n",
    "* 在n>8时，BIC对变量个数p的惩罚比AIC大得多，以控制过拟合现象\n",
    "* 可在与最低AIC相差不到2的模型之间进行考察\n",
    "\n",
    "## 当确定模型不具有共线性时，根据以上不同的准则，可采用向前（最多考察q+1个模型）、向后（最多考察q+1个模型）或者逐步回归方法（没有证出）找到较优子集"
   ]
  },
  {
   "cell_type": "code",
   "execution_count": 23,
   "metadata": {},
   "outputs": [
    {
     "data": {
      "text/html": [
       "<div>\n",
       "<style scoped>\n",
       "    .dataframe tbody tr th:only-of-type {\n",
       "        vertical-align: middle;\n",
       "    }\n",
       "\n",
       "    .dataframe tbody tr th {\n",
       "        vertical-align: top;\n",
       "    }\n",
       "\n",
       "    .dataframe thead th {\n",
       "        text-align: right;\n",
       "    }\n",
       "</style>\n",
       "<table border=\"1\" class=\"dataframe\">\n",
       "  <thead>\n",
       "    <tr style=\"text-align: right;\">\n",
       "      <th></th>\n",
       "      <th>Y</th>\n",
       "      <th>X1</th>\n",
       "      <th>X2</th>\n",
       "      <th>X3</th>\n",
       "      <th>X4</th>\n",
       "      <th>X5</th>\n",
       "      <th>X6</th>\n",
       "    </tr>\n",
       "  </thead>\n",
       "  <tbody>\n",
       "    <tr>\n",
       "      <th>0</th>\n",
       "      <td>43</td>\n",
       "      <td>51</td>\n",
       "      <td>30</td>\n",
       "      <td>39</td>\n",
       "      <td>61</td>\n",
       "      <td>92</td>\n",
       "      <td>45</td>\n",
       "    </tr>\n",
       "    <tr>\n",
       "      <th>1</th>\n",
       "      <td>63</td>\n",
       "      <td>64</td>\n",
       "      <td>51</td>\n",
       "      <td>54</td>\n",
       "      <td>63</td>\n",
       "      <td>73</td>\n",
       "      <td>47</td>\n",
       "    </tr>\n",
       "    <tr>\n",
       "      <th>2</th>\n",
       "      <td>71</td>\n",
       "      <td>70</td>\n",
       "      <td>68</td>\n",
       "      <td>69</td>\n",
       "      <td>76</td>\n",
       "      <td>86</td>\n",
       "      <td>48</td>\n",
       "    </tr>\n",
       "    <tr>\n",
       "      <th>3</th>\n",
       "      <td>61</td>\n",
       "      <td>63</td>\n",
       "      <td>45</td>\n",
       "      <td>47</td>\n",
       "      <td>54</td>\n",
       "      <td>84</td>\n",
       "      <td>35</td>\n",
       "    </tr>\n",
       "    <tr>\n",
       "      <th>4</th>\n",
       "      <td>81</td>\n",
       "      <td>78</td>\n",
       "      <td>56</td>\n",
       "      <td>66</td>\n",
       "      <td>71</td>\n",
       "      <td>83</td>\n",
       "      <td>47</td>\n",
       "    </tr>\n",
       "  </tbody>\n",
       "</table>\n",
       "</div>"
      ],
      "text/plain": [
       "    Y  X1  X2  X3  X4  X5  X6\n",
       "0  43  51  30  39  61  92  45\n",
       "1  63  64  51  54  63  73  47\n",
       "2  71  70  68  69  76  86  48\n",
       "3  61  63  45  47  54  84  35\n",
       "4  81  78  56  66  71  83  47"
      ]
     },
     "execution_count": 23,
     "metadata": {},
     "output_type": "execute_result"
    }
   ],
   "source": [
    "data = pd.read_csv(\"/Users/luofeifei/study/RegressionAnalysis/All_Data/P060.txt\",sep=\" \\t\",engine='python')\n",
    "data.head()"
   ]
  },
  {
   "cell_type": "code",
   "execution_count": 29,
   "metadata": {},
   "outputs": [],
   "source": [
    "M1 = sm.OLS(data.iloc[:,0].values,data.iloc[:,1].values).fit()"
   ]
  },
  {
   "cell_type": "code",
   "execution_count": 131,
   "metadata": {},
   "outputs": [
    {
     "data": {
      "text/plain": [
       "1600.0295134869189"
      ]
     },
     "execution_count": 131,
     "metadata": {},
     "output_type": "execute_result"
    }
   ],
   "source": [
    "sum(M1.resid**2)"
   ]
  },
  {
   "cell_type": "code",
   "execution_count": 10,
   "metadata": {},
   "outputs": [
    {
     "data": {
      "text/plain": [
       "[2.667060308257848,\n",
       " 1.6008914073839966,\n",
       " 2.27104315804566,\n",
       " 3.0782262181910207,\n",
       " 1.228108967206747,\n",
       " 1.9515907911500785]"
      ]
     },
     "execution_count": 10,
     "metadata": {},
     "output_type": "execute_result"
    }
   ],
   "source": [
    "#方差膨胀因子表明：不具有共线性，可用逐步、向前、向后回归方法\n",
    "X = sm.add_constant(data.iloc[:,1:].values)\n",
    "VIF = []\n",
    "for i in range(6):\n",
    "    VIF.append(variance_inflation_factor(X,i+1))\n",
    "VIF"
   ]
  },
  {
   "cell_type": "code",
   "execution_count": 160,
   "metadata": {},
   "outputs": [],
   "source": [
    "class StepRegression:\n",
    "    #只写Cp。。\n",
    "    #X,Y都是array\n",
    "    #CP\n",
    "    def __init__(self,X,Y):\n",
    "        self.X = X\n",
    "        self.Y = Y\n",
    "        self.n = len(Y)\n",
    "        ##全模型\n",
    "        self.full = sm.OLS(Y,sm.add_constant(X)).fit()\n",
    "        self.sigma = self.full.mse_resid\n",
    "        \n",
    "        ##从常数项开始\n",
    "        self.p = []\n",
    "        self.cp = []\n",
    "        \n",
    "        self.outset = [i for i in range(X.shape[1])]\n",
    "        self.all_set = self.all_subset(self.outset)\n",
    "        \n",
    "        for i in self.all_set:\n",
    "            if i == []:\n",
    "                model = sm.OLS(Y,np.ones_like(Y)).fit()\n",
    "            else:\n",
    "                model = sm.OLS(Y,sm.add_constant(X[:,i])).fit()\n",
    "            self.p.append(len(i)+1)\n",
    "            self.cp.append(self.CP(model,len(i)+1))\n",
    "    \n",
    "        V = pd.DataFrame(self.all_set)\n",
    "        self.result = pd.concat((V,pd.DataFrame(self.p),pd.DataFrame(self.cp)),axis=1)\n",
    "               \n",
    "    def all_subset(self,nums):\n",
    "        ans = [[]]\n",
    "        for num in nums:\n",
    "            ans+=[i+[num] for i in ans]\n",
    "        return ans\n",
    "                \n",
    "    def CP(self,model,p):\n",
    "        return sum(model.resid**2)/self.sigma+2*p-self.n\n",
    "        "
   ]
  },
  {
   "cell_type": "code",
   "execution_count": 161,
   "metadata": {},
   "outputs": [],
   "source": [
    "Y = data[\"Y\"].values.reshape(-1,1)\n",
    "X = data.iloc[:,1:].values"
   ]
  },
  {
   "cell_type": "code",
   "execution_count": 162,
   "metadata": {},
   "outputs": [],
   "source": [
    "an = StepRegression(X,Y)"
   ]
  },
  {
   "cell_type": "code",
   "execution_count": 163,
   "metadata": {},
   "outputs": [
    {
     "data": {
      "text/html": [
       "<div>\n",
       "<style scoped>\n",
       "    .dataframe tbody tr th:only-of-type {\n",
       "        vertical-align: middle;\n",
       "    }\n",
       "\n",
       "    .dataframe tbody tr th {\n",
       "        vertical-align: top;\n",
       "    }\n",
       "\n",
       "    .dataframe thead th {\n",
       "        text-align: right;\n",
       "    }\n",
       "</style>\n",
       "<table border=\"1\" class=\"dataframe\">\n",
       "  <thead>\n",
       "    <tr style=\"text-align: right;\">\n",
       "      <th></th>\n",
       "      <th>0</th>\n",
       "      <th>1</th>\n",
       "      <th>2</th>\n",
       "      <th>3</th>\n",
       "      <th>4</th>\n",
       "      <th>5</th>\n",
       "      <th>0</th>\n",
       "      <th>0</th>\n",
       "    </tr>\n",
       "  </thead>\n",
       "  <tbody>\n",
       "    <tr>\n",
       "      <th>0</th>\n",
       "      <td>NaN</td>\n",
       "      <td>NaN</td>\n",
       "      <td>NaN</td>\n",
       "      <td>NaN</td>\n",
       "      <td>NaN</td>\n",
       "      <td>NaN</td>\n",
       "      <td>1</td>\n",
       "      <td>58.014104</td>\n",
       "    </tr>\n",
       "    <tr>\n",
       "      <th>1</th>\n",
       "      <td>0.0</td>\n",
       "      <td>NaN</td>\n",
       "      <td>NaN</td>\n",
       "      <td>NaN</td>\n",
       "      <td>NaN</td>\n",
       "      <td>NaN</td>\n",
       "      <td>2</td>\n",
       "      <td>1.411477</td>\n",
       "    </tr>\n",
       "    <tr>\n",
       "      <th>2</th>\n",
       "      <td>1.0</td>\n",
       "      <td>NaN</td>\n",
       "      <td>NaN</td>\n",
       "      <td>NaN</td>\n",
       "      <td>NaN</td>\n",
       "      <td>NaN</td>\n",
       "      <td>2</td>\n",
       "      <td>44.396043</td>\n",
       "    </tr>\n",
       "    <tr>\n",
       "      <th>3</th>\n",
       "      <td>0.0</td>\n",
       "      <td>1.0</td>\n",
       "      <td>NaN</td>\n",
       "      <td>NaN</td>\n",
       "      <td>NaN</td>\n",
       "      <td>NaN</td>\n",
       "      <td>3</td>\n",
       "      <td>3.260975</td>\n",
       "    </tr>\n",
       "    <tr>\n",
       "      <th>4</th>\n",
       "      <td>2.0</td>\n",
       "      <td>NaN</td>\n",
       "      <td>NaN</td>\n",
       "      <td>NaN</td>\n",
       "      <td>NaN</td>\n",
       "      <td>NaN</td>\n",
       "      <td>2</td>\n",
       "      <td>26.556815</td>\n",
       "    </tr>\n",
       "    <tr>\n",
       "      <th>...</th>\n",
       "      <td>...</td>\n",
       "      <td>...</td>\n",
       "      <td>...</td>\n",
       "      <td>...</td>\n",
       "      <td>...</td>\n",
       "      <td>...</td>\n",
       "      <td>...</td>\n",
       "      <td>...</td>\n",
       "    </tr>\n",
       "    <tr>\n",
       "      <th>59</th>\n",
       "      <td>0.0</td>\n",
       "      <td>1.0</td>\n",
       "      <td>3.0</td>\n",
       "      <td>4.0</td>\n",
       "      <td>5.0</td>\n",
       "      <td>NaN</td>\n",
       "      <td>6</td>\n",
       "      <td>8.613237</td>\n",
       "    </tr>\n",
       "    <tr>\n",
       "      <th>60</th>\n",
       "      <td>2.0</td>\n",
       "      <td>3.0</td>\n",
       "      <td>4.0</td>\n",
       "      <td>5.0</td>\n",
       "      <td>NaN</td>\n",
       "      <td>NaN</td>\n",
       "      <td>5</td>\n",
       "      <td>18.423166</td>\n",
       "    </tr>\n",
       "    <tr>\n",
       "      <th>61</th>\n",
       "      <td>0.0</td>\n",
       "      <td>2.0</td>\n",
       "      <td>3.0</td>\n",
       "      <td>4.0</td>\n",
       "      <td>5.0</td>\n",
       "      <td>NaN</td>\n",
       "      <td>6</td>\n",
       "      <td>5.289684</td>\n",
       "    </tr>\n",
       "    <tr>\n",
       "      <th>62</th>\n",
       "      <td>1.0</td>\n",
       "      <td>2.0</td>\n",
       "      <td>3.0</td>\n",
       "      <td>4.0</td>\n",
       "      <td>5.0</td>\n",
       "      <td>NaN</td>\n",
       "      <td>6</td>\n",
       "      <td>19.508619</td>\n",
       "    </tr>\n",
       "    <tr>\n",
       "      <th>63</th>\n",
       "      <td>0.0</td>\n",
       "      <td>1.0</td>\n",
       "      <td>2.0</td>\n",
       "      <td>3.0</td>\n",
       "      <td>4.0</td>\n",
       "      <td>5.0</td>\n",
       "      <td>7</td>\n",
       "      <td>7.000000</td>\n",
       "    </tr>\n",
       "  </tbody>\n",
       "</table>\n",
       "<p>64 rows × 8 columns</p>\n",
       "</div>"
      ],
      "text/plain": [
       "      0    1    2    3    4    5  0          0\n",
       "0   NaN  NaN  NaN  NaN  NaN  NaN  1  58.014104\n",
       "1   0.0  NaN  NaN  NaN  NaN  NaN  2   1.411477\n",
       "2   1.0  NaN  NaN  NaN  NaN  NaN  2  44.396043\n",
       "3   0.0  1.0  NaN  NaN  NaN  NaN  3   3.260975\n",
       "4   2.0  NaN  NaN  NaN  NaN  NaN  2  26.556815\n",
       "..  ...  ...  ...  ...  ...  ... ..        ...\n",
       "59  0.0  1.0  3.0  4.0  5.0  NaN  6   8.613237\n",
       "60  2.0  3.0  4.0  5.0  NaN  NaN  5  18.423166\n",
       "61  0.0  2.0  3.0  4.0  5.0  NaN  6   5.289684\n",
       "62  1.0  2.0  3.0  4.0  5.0  NaN  6  19.508619\n",
       "63  0.0  1.0  2.0  3.0  4.0  5.0  7   7.000000\n",
       "\n",
       "[64 rows x 8 columns]"
      ]
     },
     "execution_count": 163,
     "metadata": {},
     "output_type": "execute_result"
    }
   ],
   "source": [
    "#前六列0～5是选择的X的列，非NaN就表示该列被选入模型\n",
    "#比如第60行代表选中了X的第2，3，4，5列（从第0列开始），p为4+1（常数项）=5，cp值为18.423\n",
    "an.result"
   ]
  },
  {
   "cell_type": "markdown",
   "metadata": {},
   "source": [
    "### Cp图"
   ]
  },
  {
   "cell_type": "code",
   "execution_count": 168,
   "metadata": {},
   "outputs": [
    {
     "data": {
      "image/png": "[encoded data removed]",
      "text/plain": [
       "<Figure size 432x288 with 1 Axes>"
      ]
     },
     "metadata": {
      "needs_background": "light"
     },
     "output_type": "display_data"
    }
   ],
   "source": [
    "p = an.result.iloc[:,6].values\n",
    "cp = an.result.iloc[:,7].values\n",
    "plt.plot(p,cp,'ko')\n",
    "plt.plot(np.arange(0,8,0.1),np.arange(0,8,0.1),'k',linewidth=1.0)\n",
    "plt.xlim(0,8)\n",
    "plt.ylim(0,8)\n",
    "plt.show()"
   ]
  },
  {
   "cell_type": "markdown",
   "metadata": {},
   "source": [
    "## 4.岭回归进行共线性变量选择"
   ]
  },
  {
   "cell_type": "code",
   "execution_count": 169,
   "metadata": {},
   "outputs": [
    {
     "data": {
      "text/html": [
       "<div>\n",
       "<style scoped>\n",
       "    .dataframe tbody tr th:only-of-type {\n",
       "        vertical-align: middle;\n",
       "    }\n",
       "\n",
       "    .dataframe tbody tr th {\n",
       "        vertical-align: top;\n",
       "    }\n",
       "\n",
       "    .dataframe thead th {\n",
       "        text-align: right;\n",
       "    }\n",
       "</style>\n",
       "<table border=\"1\" class=\"dataframe\">\n",
       "  <thead>\n",
       "    <tr style=\"text-align: right;\">\n",
       "      <th></th>\n",
       "      <th>X1</th>\n",
       "      <th>X2</th>\n",
       "      <th>X3</th>\n",
       "      <th>X4</th>\n",
       "      <th>X5</th>\n",
       "      <th>X6</th>\n",
       "      <th>X7</th>\n",
       "      <th>X8</th>\n",
       "      <th>X9</th>\n",
       "      <th>X10</th>\n",
       "      <th>X11</th>\n",
       "      <th>X12</th>\n",
       "      <th>X13</th>\n",
       "      <th>X14</th>\n",
       "      <th>X15</th>\n",
       "      <th>Y</th>\n",
       "    </tr>\n",
       "  </thead>\n",
       "  <tbody>\n",
       "    <tr>\n",
       "      <th>0</th>\n",
       "      <td>36</td>\n",
       "      <td>27</td>\n",
       "      <td>71</td>\n",
       "      <td>8.1</td>\n",
       "      <td>3.34</td>\n",
       "      <td>11.4</td>\n",
       "      <td>81.5</td>\n",
       "      <td>3243</td>\n",
       "      <td>8.8</td>\n",
       "      <td>42.6</td>\n",
       "      <td>11.7</td>\n",
       "      <td>21</td>\n",
       "      <td>15</td>\n",
       "      <td>59</td>\n",
       "      <td>59</td>\n",
       "      <td>921.87</td>\n",
       "    </tr>\n",
       "    <tr>\n",
       "      <th>1</th>\n",
       "      <td>35</td>\n",
       "      <td>23</td>\n",
       "      <td>72</td>\n",
       "      <td>11.1</td>\n",
       "      <td>3.14</td>\n",
       "      <td>11.0</td>\n",
       "      <td>78.8</td>\n",
       "      <td>4281</td>\n",
       "      <td>3.5</td>\n",
       "      <td>50.7</td>\n",
       "      <td>14.4</td>\n",
       "      <td>8</td>\n",
       "      <td>10</td>\n",
       "      <td>39</td>\n",
       "      <td>57</td>\n",
       "      <td>997.88</td>\n",
       "    </tr>\n",
       "    <tr>\n",
       "      <th>2</th>\n",
       "      <td>44</td>\n",
       "      <td>29</td>\n",
       "      <td>74</td>\n",
       "      <td>10.4</td>\n",
       "      <td>3.21</td>\n",
       "      <td>9.8</td>\n",
       "      <td>81.6</td>\n",
       "      <td>4260</td>\n",
       "      <td>0.8</td>\n",
       "      <td>39.4</td>\n",
       "      <td>12.4</td>\n",
       "      <td>6</td>\n",
       "      <td>6</td>\n",
       "      <td>33</td>\n",
       "      <td>54</td>\n",
       "      <td>962.35</td>\n",
       "    </tr>\n",
       "    <tr>\n",
       "      <th>3</th>\n",
       "      <td>47</td>\n",
       "      <td>45</td>\n",
       "      <td>79</td>\n",
       "      <td>6.5</td>\n",
       "      <td>3.41</td>\n",
       "      <td>11.1</td>\n",
       "      <td>77.5</td>\n",
       "      <td>3125</td>\n",
       "      <td>27.1</td>\n",
       "      <td>50.2</td>\n",
       "      <td>20.6</td>\n",
       "      <td>18</td>\n",
       "      <td>8</td>\n",
       "      <td>24</td>\n",
       "      <td>56</td>\n",
       "      <td>982.29</td>\n",
       "    </tr>\n",
       "    <tr>\n",
       "      <th>4</th>\n",
       "      <td>43</td>\n",
       "      <td>35</td>\n",
       "      <td>77</td>\n",
       "      <td>7.6</td>\n",
       "      <td>3.44</td>\n",
       "      <td>9.6</td>\n",
       "      <td>84.6</td>\n",
       "      <td>6441</td>\n",
       "      <td>24.4</td>\n",
       "      <td>43.7</td>\n",
       "      <td>14.3</td>\n",
       "      <td>43</td>\n",
       "      <td>38</td>\n",
       "      <td>206</td>\n",
       "      <td>55</td>\n",
       "      <td>1071.29</td>\n",
       "    </tr>\n",
       "  </tbody>\n",
       "</table>\n",
       "</div>"
      ],
      "text/plain": [
       "   X1  X2  X3    X4    X5    X6    X7    X8    X9   X10   X11  X12  X13  X14  \\\n",
       "0  36  27  71   8.1  3.34  11.4  81.5  3243   8.8  42.6  11.7   21   15   59   \n",
       "1  35  23  72  11.1  3.14  11.0  78.8  4281   3.5  50.7  14.4    8   10   39   \n",
       "2  44  29  74  10.4  3.21   9.8  81.6  4260   0.8  39.4  12.4    6    6   33   \n",
       "3  47  45  79   6.5  3.41  11.1  77.5  3125  27.1  50.2  20.6   18    8   24   \n",
       "4  43  35  77   7.6  3.44   9.6  84.6  6441  24.4  43.7  14.3   43   38  206   \n",
       "\n",
       "   X15        Y  \n",
       "0   59   921.87  \n",
       "1   57   997.88  \n",
       "2   54   962.35  \n",
       "3   56   982.29  \n",
       "4   55  1071.29  "
      ]
     },
     "execution_count": 169,
     "metadata": {},
     "output_type": "execute_result"
    }
   ],
   "source": [
    "air_data = pd.read_csv(\"/Users/luofeifei/study/RegressionAnalysis/All_Data/P320-1.txt\",sep=\"\\t\")\n",
    "air_data.head()"
   ]
  },
  {
   "cell_type": "code",
   "execution_count": 181,
   "metadata": {},
   "outputs": [],
   "source": [
    "#考察共线性\n",
    "Y = air_data.iloc[:,-1].values\n",
    "X = air_data.iloc[:,:-1].values\n",
    "xmean = X.mean(axis=0)\n",
    "ymean = Y.mean()\n",
    "sx = X.std(axis=0,ddof=1)\n",
    "sy = Y.std(ddof=1)\n",
    "X_norm = (X - xmean)/sx\n",
    "y_norm = (Y - ymean)/sy"
   ]
  },
  {
   "cell_type": "code",
   "execution_count": 182,
   "metadata": {},
   "outputs": [
    {
     "data": {
      "text/plain": [
       "[4.113888033380592,\n",
       " 6.143550709741293,\n",
       " 3.9677738160746325,\n",
       " 7.470044953024237,\n",
       " 4.307618473936412,\n",
       " 4.860538096569136,\n",
       " 3.9947805984106304,\n",
       " 1.658281203239386,\n",
       " 6.7795994180173125,\n",
       " 2.8415815963646924,\n",
       " 8.717067656266007,\n",
       " 98.63993492733873,\n",
       " 104.98240482965406,\n",
       " 4.228928620958616,\n",
       " 1.9070924989444236]"
      ]
     },
     "execution_count": 182,
     "metadata": {},
     "output_type": "execute_result"
    }
   ],
   "source": [
    "VIF = []\n",
    "for i in range(X_norm.shape[1]):\n",
    "    VIF.append(variance_inflation_factor(X_norm,i))\n",
    "VIF"
   ]
  },
  {
   "cell_type": "code",
   "execution_count": 184,
   "metadata": {},
   "outputs": [],
   "source": [
    "norm_data = (air_data - air_data.mean(axis=0))/air_data.std(axis=0)"
   ]
  },
  {
   "cell_type": "code",
   "execution_count": 187,
   "metadata": {},
   "outputs": [
    {
     "data": {
      "text/html": [
       "<div>\n",
       "<style scoped>\n",
       "    .dataframe tbody tr th:only-of-type {\n",
       "        vertical-align: middle;\n",
       "    }\n",
       "\n",
       "    .dataframe tbody tr th {\n",
       "        vertical-align: top;\n",
       "    }\n",
       "\n",
       "    .dataframe thead th {\n",
       "        text-align: right;\n",
       "    }\n",
       "</style>\n",
       "<table border=\"1\" class=\"dataframe\">\n",
       "  <thead>\n",
       "    <tr style=\"text-align: right;\">\n",
       "      <th></th>\n",
       "      <th>X1</th>\n",
       "      <th>X2</th>\n",
       "      <th>X3</th>\n",
       "      <th>X4</th>\n",
       "      <th>X5</th>\n",
       "      <th>X6</th>\n",
       "      <th>X7</th>\n",
       "      <th>X8</th>\n",
       "      <th>X9</th>\n",
       "      <th>X10</th>\n",
       "      <th>X11</th>\n",
       "      <th>X12</th>\n",
       "      <th>X13</th>\n",
       "      <th>X14</th>\n",
       "      <th>X15</th>\n",
       "      <th>Y</th>\n",
       "    </tr>\n",
       "  </thead>\n",
       "  <tbody>\n",
       "    <tr>\n",
       "      <th>0</th>\n",
       "      <td>-0.136876</td>\n",
       "      <td>-0.686734</td>\n",
       "      <td>-0.752299</td>\n",
       "      <td>-0.476824</td>\n",
       "      <td>0.568074</td>\n",
       "      <td>0.504752</td>\n",
       "      <td>0.114107</td>\n",
       "      <td>-0.435354</td>\n",
       "      <td>-0.344126</td>\n",
       "      <td>-0.754744</td>\n",
       "      <td>-0.642613</td>\n",
       "      <td>-0.183197</td>\n",
       "      <td>-0.165108</td>\n",
       "      <td>0.082557</td>\n",
       "      <td>0.248296</td>\n",
       "      <td>-0.297211</td>\n",
       "    </tr>\n",
       "    <tr>\n",
       "      <th>1</th>\n",
       "      <td>-0.237030</td>\n",
       "      <td>-1.080091</td>\n",
       "      <td>-0.542355</td>\n",
       "      <td>1.571584</td>\n",
       "      <td>-0.910644</td>\n",
       "      <td>0.031547</td>\n",
       "      <td>-0.411045</td>\n",
       "      <td>0.278488</td>\n",
       "      <td>-0.938220</td>\n",
       "      <td>1.001147</td>\n",
       "      <td>0.006410</td>\n",
       "      <td>-0.324535</td>\n",
       "      <td>-0.273022</td>\n",
       "      <td>-0.232948</td>\n",
       "      <td>-0.124148</td>\n",
       "      <td>0.924684</td>\n",
       "    </tr>\n",
       "    <tr>\n",
       "      <th>2</th>\n",
       "      <td>0.664351</td>\n",
       "      <td>-0.490056</td>\n",
       "      <td>-0.122467</td>\n",
       "      <td>1.093622</td>\n",
       "      <td>-0.393092</td>\n",
       "      <td>-1.388068</td>\n",
       "      <td>0.133557</td>\n",
       "      <td>0.264046</td>\n",
       "      <td>-1.240872</td>\n",
       "      <td>-1.448429</td>\n",
       "      <td>-0.474348</td>\n",
       "      <td>-0.346280</td>\n",
       "      <td>-0.359353</td>\n",
       "      <td>-0.327599</td>\n",
       "      <td>-0.682814</td>\n",
       "      <td>0.353523</td>\n",
       "    </tr>\n",
       "    <tr>\n",
       "      <th>3</th>\n",
       "      <td>0.964812</td>\n",
       "      <td>1.083369</td>\n",
       "      <td>0.927252</td>\n",
       "      <td>-1.569308</td>\n",
       "      <td>1.085625</td>\n",
       "      <td>0.149848</td>\n",
       "      <td>-0.663895</td>\n",
       "      <td>-0.516504</td>\n",
       "      <td>1.707179</td>\n",
       "      <td>0.892758</td>\n",
       "      <td>1.496760</td>\n",
       "      <td>-0.215813</td>\n",
       "      <td>-0.316187</td>\n",
       "      <td>-0.469576</td>\n",
       "      <td>-0.310370</td>\n",
       "      <td>0.674067</td>\n",
       "    </tr>\n",
       "    <tr>\n",
       "      <th>4</th>\n",
       "      <td>0.564198</td>\n",
       "      <td>0.099978</td>\n",
       "      <td>0.507364</td>\n",
       "      <td>-0.818225</td>\n",
       "      <td>1.307433</td>\n",
       "      <td>-1.624671</td>\n",
       "      <td>0.717059</td>\n",
       "      <td>1.763940</td>\n",
       "      <td>1.404528</td>\n",
       "      <td>-0.516290</td>\n",
       "      <td>-0.017628</td>\n",
       "      <td>0.055992</td>\n",
       "      <td>0.331295</td>\n",
       "      <td>2.401518</td>\n",
       "      <td>-0.496592</td>\n",
       "      <td>2.104782</td>\n",
       "    </tr>\n",
       "  </tbody>\n",
       "</table>\n",
       "</div>"
      ],
      "text/plain": [
       "         X1        X2        X3        X4        X5        X6        X7  \\\n",
       "0 -0.136876 -0.686734 -0.752299 -0.476824  0.568074  0.504752  0.114107   \n",
       "1 -0.237030 -1.080091 -0.542355  1.571584 -0.910644  0.031547 -0.411045   \n",
       "2  0.664351 -0.490056 -0.122467  1.093622 -0.393092 -1.388068  0.133557   \n",
       "3  0.964812  1.083369  0.927252 -1.569308  1.085625  0.149848 -0.663895   \n",
       "4  0.564198  0.099978  0.507364 -0.818225  1.307433 -1.624671  0.717059   \n",
       "\n",
       "         X8        X9       X10       X11       X12       X13       X14  \\\n",
       "0 -0.435354 -0.344126 -0.754744 -0.642613 -0.183197 -0.165108  0.082557   \n",
       "1  0.278488 -0.938220  1.001147  0.006410 -0.324535 -0.273022 -0.232948   \n",
       "2  0.264046 -1.240872 -1.448429 -0.474348 -0.346280 -0.359353 -0.327599   \n",
       "3 -0.516504  1.707179  0.892758  1.496760 -0.215813 -0.316187 -0.469576   \n",
       "4  1.763940  1.404528 -0.516290 -0.017628  0.055992  0.331295  2.401518   \n",
       "\n",
       "        X15         Y  \n",
       "0  0.248296 -0.297211  \n",
       "1 -0.124148  0.924684  \n",
       "2 -0.682814  0.353523  \n",
       "3 -0.310370  0.674067  \n",
       "4 -0.496592  2.104782  "
      ]
     },
     "execution_count": 187,
     "metadata": {},
     "output_type": "execute_result"
    }
   ],
   "source": [
    "norm_data.head()"
   ]
  },
  {
   "cell_type": "code",
   "execution_count": 191,
   "metadata": {},
   "outputs": [],
   "source": [
    "full_model = smf.ols(\"Y~X1+X2+X3+X4+X5+X6+X7+X8+X9+X10+X11+X12+X13+X14+X15\",norm_data).fit()"
   ]
  },
  {
   "cell_type": "code",
   "execution_count": 192,
   "metadata": {},
   "outputs": [
    {
     "name": "stdout",
     "output_type": "stream",
     "text": [
      "                            OLS Regression Results                            \n",
      "==============================================================================\n",
      "Dep. Variable:                      Y   R-squared:                       0.765\n",
      "Model:                            OLS   Adj. R-squared:                  0.685\n",
      "Method:                 Least Squares   F-statistic:                     9.542\n",
      "Date:                Tue, 15 Sep 2020   Prob (F-statistic):           2.19e-09\n",
      "Time:                        16:41:26   Log-Likelihood:                -41.203\n",
      "No. Observations:                  60   AIC:                             114.4\n",
      "Df Residuals:                      44   BIC:                             147.9\n",
      "Df Model:                          15                                         \n",
      "Covariance Type:            nonrobust                                         \n",
      "==============================================================================\n",
      "                 coef    std err          t      P>|t|      [0.025      0.975]\n",
      "------------------------------------------------------------------------------\n",
      "Intercept   -2.47e-15      0.072  -3.41e-14      1.000      -0.146       0.146\n",
      "X1             0.3058      0.148      2.063      0.045       0.007       0.605\n",
      "X2            -0.3167      0.181     -1.748      0.087      -0.682       0.048\n",
      "X3            -0.2374      0.146     -1.630      0.110      -0.531       0.056\n",
      "X4            -0.2134      0.200     -1.068      0.291      -0.616       0.189\n",
      "X5            -0.2323      0.152     -1.531      0.133      -0.538       0.073\n",
      "X6            -0.2331      0.161     -1.447      0.155      -0.558       0.092\n",
      "X7            -0.0538      0.146     -0.368      0.714      -0.348       0.241\n",
      "X8             0.0842      0.094      0.894      0.376      -0.106       0.274\n",
      "X9             0.6396      0.190      3.360      0.002       0.256       1.023\n",
      "X10           -0.0139      0.123     -0.113      0.911      -0.262       0.234\n",
      "X11           -0.0112      0.216     -0.052      0.959      -0.446       0.424\n",
      "X12           -0.9938      0.726     -1.369      0.178      -2.457       0.469\n",
      "X13            0.9981      0.749      1.333      0.190      -0.511       2.508\n",
      "X14            0.0879      0.150      0.585      0.562      -0.215       0.391\n",
      "X15            0.0092      0.101      0.091      0.928      -0.194       0.213\n",
      "==============================================================================\n",
      "Omnibus:                        2.991   Durbin-Watson:                   2.129\n",
      "Prob(Omnibus):                  0.224   Jarque-Bera (JB):                2.088\n",
      "Skew:                           0.359   Prob(JB):                        0.352\n",
      "Kurtosis:                       3.566   Cond. No.                         30.5\n",
      "==============================================================================\n",
      "\n",
      "Notes:\n",
      "[1] Standard Errors assume that the covariance matrix of the errors is correctly specified.\n"
     ]
    }
   ],
   "source": [
    "print(full_model.summary())"
   ]
  },
  {
   "cell_type": "code",
   "execution_count": 193,
   "metadata": {},
   "outputs": [],
   "source": [
    "from sklearn.linear_model import Ridge"
   ]
  },
  {
   "cell_type": "code",
   "execution_count": 283,
   "metadata": {},
   "outputs": [],
   "source": [
    "#经过试验发现本书作者使用了标准化的数据进行岭回归，但是岭回归的计算程序又将标准化数据转化为单位化(阅读源码说明，提到是除以L2—norm)\n",
    "#按照书上的方法得到的是标准化数据的系数岭迹，因此可以相互比较\n",
    "class Rig:\n",
    "    def __init__(self,X,Y):\n",
    "        '''type of X/Y are array or dataframe/series'''\n",
    "        self.k = np.arange(0,0.5,0.001)\n",
    "        self.result = np.array([None for i in range(X.shape[1])]).reshape(-1,1)\n",
    "        self.X = X\n",
    "        self.Y = Y\n",
    "        self.model = None\n",
    "        for i in self.k:\n",
    "            model = Ridge(alpha=i,normalize=True)\n",
    "            model.fit(X,Y)\n",
    "            self.result = np.hstack((self.result,model.coef_.reshape(-1,1)))\n",
    "\n",
    "        self.result = self.result[:,1:]"
   ]
  },
  {
   "cell_type": "code",
   "execution_count": 284,
   "metadata": {},
   "outputs": [],
   "source": [
    "ans = Rig(norm_data.iloc[:,:-1],norm_data.iloc[:,-1])"
   ]
  },
  {
   "cell_type": "code",
   "execution_count": 285,
   "metadata": {},
   "outputs": [],
   "source": [
    "result = ans.result"
   ]
  },
  {
   "cell_type": "code",
   "execution_count": 286,
   "metadata": {},
   "outputs": [
    {
     "data": {
      "image/png": "[encoded data removed]",
      "text/plain": [
       "<Figure size 432x288 with 1 Axes>"
      ]
     },
     "metadata": {
      "needs_background": "light"
     },
     "output_type": "display_data"
    }
   ],
   "source": [
    "n = np.arange(0,0.5,0.001)\n",
    "plt.plot(n,result[0,:],'k',linewidth=1.0)\n",
    "plt.plot(n,result[1,:],'b',linewidth=1.0)\n",
    "plt.plot(n,result[2,:],'g',linewidth=1.0)\n",
    "plt.plot(n,result[3,:],'darkred',linewidth=1.0)\n",
    "plt.plot(n,result[4,:],'gray',linewidth=1.0)\n",
    "plt.xlim(0, 0.5)\n",
    "plt.ylim(-0.4,0.7)\n",
    "ax = plt.gca()\n",
    "ax.spines['bottom'].set_position(('data', 0))\n",
    "ax.spines['left'].set_position(('data', 0))\n",
    "for key, spine in ax.spines.items():\n",
    "    # 'left', 'right', 'bottom', 'top'\n",
    "    if key == 'right' or key == 'top':\n",
    "        spine.set_visible(False)\n",
    "plt.show()"
   ]
  },
  {
   "cell_type": "code",
   "execution_count": 242,
   "metadata": {},
   "outputs": [
    {
     "data": {
      "image/png": "[encoded data removed]",
      "text/plain": [
       "<Figure size 432x288 with 1 Axes>"
      ]
     },
     "metadata": {
      "needs_background": "light"
     },
     "output_type": "display_data"
    }
   ],
   "source": [
    "plt.plot(n,result[5,:],'k',linewidth=1.0)\n",
    "plt.plot(n,result[6,:],'b',linewidth=1.0)\n",
    "plt.plot(n,result[7,:],'g',linewidth=1.0)\n",
    "plt.plot(n,result[8,:],'darkred',linewidth=1.0)\n",
    "plt.plot(n,result[9,:],'gray',linewidth=1.0)\n",
    "plt.xlim(0, 0.5)\n",
    "plt.ylim(-0.4,0.7)\n",
    "ax = plt.gca()\n",
    "ax.spines['bottom'].set_position(('data', 0))\n",
    "ax.spines['left'].set_position(('data', 0))\n",
    "for key, spine in ax.spines.items():\n",
    "    # 'left', 'right', 'bottom', 'top'\n",
    "    if key == 'right' or key == 'top':\n",
    "        spine.set_visible(False)\n",
    "plt.show()"
   ]
  },
  {
   "cell_type": "code",
   "execution_count": 232,
   "metadata": {},
   "outputs": [
    {
     "data": {
      "image/png": "[encoded data removed]",
      "text/plain": [
       "<Figure size 432x288 with 1 Axes>"
      ]
     },
     "metadata": {
      "needs_background": "light"
     },
     "output_type": "display_data"
    }
   ],
   "source": [
    "plt.plot(n,result[10,:],'k',linewidth=1.0)\n",
    "plt.plot(n,result[11,:],'b',linewidth=1.0)\n",
    "plt.plot(n,result[12,:],'g',linewidth=1.0)\n",
    "plt.plot(n,result[13,:],'darkred',linewidth=1.0)\n",
    "plt.plot(n,result[14,:],'gray',linewidth=1.0)\n",
    "plt.xlim(0, 0.5)\n",
    "plt.ylim(-0.4,0.7)\n",
    "ax = plt.gca()\n",
    "ax.spines['bottom'].set_position(('data', 0))\n",
    "ax.spines['left'].set_position(('data', 0))\n",
    "for key, spine in ax.spines.items():\n",
    "    # 'left', 'right', 'bottom', 'top'\n",
    "    if key == 'right' or key == 'top':\n",
    "        spine.set_visible(False)\n",
    "plt.show()"
   ]
  },
  {
   "cell_type": "code",
   "execution_count": 233,
   "metadata": {},
   "outputs": [
    {
     "name": "stdout",
     "output_type": "stream",
     "text": [
      "                            OLS Regression Results                            \n",
      "==============================================================================\n",
      "Dep. Variable:                      Y   R-squared:                       0.749\n",
      "Model:                            OLS   Adj. R-squared:                  0.709\n",
      "Method:                 Least Squares   F-statistic:                     18.99\n",
      "Date:                Tue, 15 Sep 2020   Prob (F-statistic):           7.67e-13\n",
      "Time:                        17:16:51   Log-Likelihood:                -43.202\n",
      "No. Observations:                  60   AIC:                             104.4\n",
      "Df Residuals:                      51   BIC:                             123.3\n",
      "Df Model:                           8                                         \n",
      "Covariance Type:            nonrobust                                         \n",
      "==============================================================================\n",
      "                 coef    std err          t      P>|t|      [0.025      0.975]\n",
      "------------------------------------------------------------------------------\n",
      "Intercept   -2.47e-15      0.070  -3.55e-14      1.000      -0.140       0.140\n",
      "X1             0.3311      0.120      2.764      0.008       0.091       0.572\n",
      "X2            -0.3512      0.106     -3.314      0.002      -0.564      -0.138\n",
      "X3            -0.2168      0.104     -2.087      0.042      -0.425      -0.008\n",
      "X4            -0.1546      0.163     -0.946      0.349      -0.483       0.174\n",
      "X5            -0.2212      0.134     -1.656      0.104      -0.489       0.047\n",
      "X6            -0.2699      0.102     -2.655      0.011      -0.474      -0.066\n",
      "X9             0.6922      0.133      5.221      0.000       0.426       0.958\n",
      "X14            0.2301      0.083      2.766      0.008       0.063       0.397\n",
      "==============================================================================\n",
      "Omnibus:                        5.302   Durbin-Watson:                   2.084\n",
      "Prob(Omnibus):                  0.071   Jarque-Bera (JB):                4.309\n",
      "Skew:                           0.569   Prob(JB):                        0.116\n",
      "Kurtosis:                       3.654   Cond. No.                         5.53\n",
      "==============================================================================\n",
      "\n",
      "Notes:\n",
      "[1] Standard Errors assume that the covariance matrix of the errors is correctly specified.\n"
     ]
    }
   ],
   "source": [
    "red_model = smf.ols(\"Y~X1+X2+X3+X4+X5+X6+X9+X14\",norm_data).fit()\n",
    "print(red_model.summary())"
   ]
  },
  {
   "cell_type": "code",
   "execution_count": null,
   "metadata": {},
   "outputs": [],
   "source": []
  }
 ],
 "metadata": {
  "kernelspec": {
   "display_name": "Python 3",
   "language": "python",
   "name": "python3"
  },
  "language_info": {
   "codemirror_mode": {
    "name": "ipython",
    "version": 3
   },
   "file_extension": ".py",
   "mimetype": "text/x-python",
   "name": "python",
   "nbconvert_exporter": "python",
   "pygments_lexer": "ipython3",
   "version": "3.7.2"
  }
 },
 "nbformat": 4,
 "nbformat_minor": 2
}
