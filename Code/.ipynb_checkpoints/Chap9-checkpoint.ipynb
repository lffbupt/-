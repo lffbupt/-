{
 "cells": [
  {
   "cell_type": "markdown",
   "metadata": {},
   "source": [
    "# 共线性数据分析\n",
    "* 回归系数极为敏感\n",
    "* 预测精度和模型可靠性极大降低"
   ]
  },
  {
   "cell_type": "code",
   "execution_count": 1,
   "metadata": {},
   "outputs": [],
   "source": [
    "import pandas as pd\n",
    "import numpy as np\n",
    "import matplotlib.pyplot as plt\n",
    "import statsmodels.api as sm\n",
    "import statsmodels.formula.api as smf\n",
    "import scipy.stats as st"
   ]
  },
  {
   "cell_type": "markdown",
   "metadata": {},
   "source": [
    "# 1.共线性"
   ]
  },
  {
   "cell_type": "code",
   "execution_count": 2,
   "metadata": {},
   "outputs": [],
   "source": [
    "data = pd.read_csv(\"/Users/luofeifei/study/RegressionAnalysis/All_Data/P236.txt\",sep=\"\\t\")"
   ]
  },
  {
   "cell_type": "code",
   "execution_count": 3,
   "metadata": {},
   "outputs": [
    {
     "data": {
      "text/html": [
       "<div>\n",
       "<style scoped>\n",
       "    .dataframe tbody tr th:only-of-type {\n",
       "        vertical-align: middle;\n",
       "    }\n",
       "\n",
       "    .dataframe tbody tr th {\n",
       "        vertical-align: top;\n",
       "    }\n",
       "\n",
       "    .dataframe thead th {\n",
       "        text-align: right;\n",
       "    }\n",
       "</style>\n",
       "<table border=\"1\" class=\"dataframe\">\n",
       "  <thead>\n",
       "    <tr style=\"text-align: right;\">\n",
       "      <th></th>\n",
       "      <th>ACHV</th>\n",
       "      <th>FAM</th>\n",
       "      <th>PEER</th>\n",
       "      <th>SCHOOL</th>\n",
       "    </tr>\n",
       "  </thead>\n",
       "  <tbody>\n",
       "    <tr>\n",
       "      <th>0</th>\n",
       "      <td>-0.43148</td>\n",
       "      <td>0.60814</td>\n",
       "      <td>0.03509</td>\n",
       "      <td>0.16607</td>\n",
       "    </tr>\n",
       "    <tr>\n",
       "      <th>1</th>\n",
       "      <td>0.79969</td>\n",
       "      <td>0.79369</td>\n",
       "      <td>0.47924</td>\n",
       "      <td>0.53356</td>\n",
       "    </tr>\n",
       "    <tr>\n",
       "      <th>2</th>\n",
       "      <td>-0.92467</td>\n",
       "      <td>-0.82630</td>\n",
       "      <td>-0.61951</td>\n",
       "      <td>-0.78635</td>\n",
       "    </tr>\n",
       "    <tr>\n",
       "      <th>3</th>\n",
       "      <td>-2.19081</td>\n",
       "      <td>-1.25310</td>\n",
       "      <td>-1.21675</td>\n",
       "      <td>-1.04076</td>\n",
       "    </tr>\n",
       "    <tr>\n",
       "      <th>4</th>\n",
       "      <td>-2.84818</td>\n",
       "      <td>0.17399</td>\n",
       "      <td>-0.18517</td>\n",
       "      <td>0.14229</td>\n",
       "    </tr>\n",
       "  </tbody>\n",
       "</table>\n",
       "</div>"
      ],
      "text/plain": [
       "      ACHV      FAM     PEER   SCHOOL\n",
       "0 -0.43148  0.60814  0.03509  0.16607\n",
       "1  0.79969  0.79369  0.47924  0.53356\n",
       "2 -0.92467 -0.82630 -0.61951 -0.78635\n",
       "3 -2.19081 -1.25310 -1.21675 -1.04076\n",
       "4 -2.84818  0.17399 -0.18517  0.14229"
      ]
     },
     "execution_count": 3,
     "metadata": {},
     "output_type": "execute_result"
    }
   ],
   "source": [
    "data.head()"
   ]
  },
  {
   "cell_type": "code",
   "execution_count": 4,
   "metadata": {},
   "outputs": [
    {
     "name": "stdout",
     "output_type": "stream",
     "text": [
      "                            OLS Regression Results                            \n",
      "==============================================================================\n",
      "Dep. Variable:                   ACHV   R-squared:                       0.206\n",
      "Model:                            OLS   Adj. R-squared:                  0.170\n",
      "Method:                 Least Squares   F-statistic:                     5.717\n",
      "Date:                Sun, 13 Sep 2020   Prob (F-statistic):            0.00153\n",
      "Time:                        11:14:04   Log-Likelihood:                -148.20\n",
      "No. Observations:                  70   AIC:                             304.4\n",
      "Df Residuals:                      66   BIC:                             313.4\n",
      "Df Model:                           3                                         \n",
      "Covariance Type:            nonrobust                                         \n",
      "==============================================================================\n",
      "                 coef    std err          t      P>|t|      [0.025      0.975]\n",
      "------------------------------------------------------------------------------\n",
      "Intercept     -0.0700      0.251     -0.279      0.781      -0.570       0.430\n",
      "FAM            1.1013      1.411      0.781      0.438      -1.715       3.918\n",
      "PEER           2.3221      1.481      1.568      0.122      -0.635       5.280\n",
      "SCHOOL        -2.2810      2.220     -1.027      0.308      -6.714       2.152\n",
      "==============================================================================\n",
      "Omnibus:                        0.558   Durbin-Watson:                   1.791\n",
      "Prob(Omnibus):                  0.756   Jarque-Bera (JB):                0.578\n",
      "Skew:                           0.203   Prob(JB):                        0.749\n",
      "Kurtosis:                       2.816   Cond. No.                         19.2\n",
      "==============================================================================\n",
      "\n",
      "Notes:\n",
      "[1] Standard Errors assume that the covariance matrix of the errors is correctly specified.\n"
     ]
    }
   ],
   "source": [
    "model = smf.ols(\"ACHV~FAM+PEER+SCHOOL\",data).fit()\n",
    "print(model.summary())"
   ]
  },
  {
   "cell_type": "markdown",
   "metadata": {},
   "source": [
    "## 2.方差膨胀因子"
   ]
  },
  {
   "cell_type": "code",
   "execution_count": 5,
   "metadata": {},
   "outputs": [],
   "source": [
    "from statsmodels.stats.outliers_influence import variance_inflation_factor"
   ]
  },
  {
   "cell_type": "code",
   "execution_count": 23,
   "metadata": {},
   "outputs": [],
   "source": [
    "vif1 = variance_inflation_factor(sm.add_constant(data[[\"FAM\",\"PEER\",\"SCHOOL\"]].values),1)\n",
    "vif2 = variance_inflation_factor(sm.add_constant(data[[\"FAM\",\"PEER\",\"SCHOOL\"]].values),2)\n",
    "vif3 = variance_inflation_factor(sm.add_constant(data[[\"FAM\",\"PEER\",\"SCHOOL\"]].values),3)"
   ]
  },
  {
   "cell_type": "code",
   "execution_count": 24,
   "metadata": {},
   "outputs": [
    {
     "data": {
      "text/plain": [
       "(37.580639932204285, 30.21165657710285, 83.15543705009657)"
      ]
     },
     "execution_count": 24,
     "metadata": {},
     "output_type": "execute_result"
    }
   ],
   "source": [
    "vif1,vif2,vif3"
   ]
  },
  {
   "cell_type": "code",
   "execution_count": 25,
   "metadata": {},
   "outputs": [
    {
     "name": "stdout",
     "output_type": "stream",
     "text": [
      "                            OLS Regression Results                            \n",
      "==============================================================================\n",
      "Dep. Variable:                    FAM   R-squared:                       0.973\n",
      "Model:                            OLS   Adj. R-squared:                  0.973\n",
      "Method:                 Least Squares   F-statistic:                     1225.\n",
      "Date:                Sun, 13 Sep 2020   Prob (F-statistic):           1.73e-53\n",
      "Time:                        14:52:10   Log-Likelihood:                 22.514\n",
      "No. Observations:                  70   AIC:                            -39.03\n",
      "Df Residuals:                      67   BIC:                            -32.28\n",
      "Df Model:                           2                                         \n",
      "Covariance Type:            nonrobust                                         \n",
      "==============================================================================\n",
      "                 coef    std err          t      P>|t|      [0.025      0.975]\n",
      "------------------------------------------------------------------------------\n",
      "Intercept      0.0209      0.022      0.969      0.336      -0.022       0.064\n",
      "PEER          -0.2656      0.124     -2.140      0.036      -0.513      -0.018\n",
      "SCHOOL         1.2788      0.112     11.402      0.000       1.055       1.503\n",
      "==============================================================================\n",
      "Omnibus:                        0.237   Durbin-Watson:                   1.767\n",
      "Prob(Omnibus):                  0.888   Jarque-Bera (JB):                0.405\n",
      "Skew:                          -0.104   Prob(JB):                        0.817\n",
      "Kurtosis:                       2.691   Cond. No.                         10.6\n",
      "==============================================================================\n",
      "\n",
      "Notes:\n",
      "[1] Standard Errors assume that the covariance matrix of the errors is correctly specified.\n"
     ]
    }
   ],
   "source": [
    "test = smf.ols(\"FAM~PEER+SCHOOL\",data).fit()\n",
    "print(test.summary())"
   ]
  },
  {
   "cell_type": "code",
   "execution_count": 27,
   "metadata": {},
   "outputs": [
    {
     "data": {
      "text/plain": [
       "37.580639932204285"
      ]
     },
     "execution_count": 27,
     "metadata": {},
     "output_type": "execute_result"
    }
   ],
   "source": [
    "#vif1\n",
    "1/(1-test.rsquared)"
   ]
  },
  {
   "cell_type": "code",
   "execution_count": 28,
   "metadata": {},
   "outputs": [],
   "source": [
    "#删除变量以消除共线性是下策"
   ]
  },
  {
   "cell_type": "markdown",
   "metadata": {},
   "source": [
    "## 3.条件指数"
   ]
  },
  {
   "cell_type": "code",
   "execution_count": 40,
   "metadata": {},
   "outputs": [],
   "source": [
    "French_data = pd.read_csv(\"/Users/luofeifei/study/RegressionAnalysis/All_Data/P241.txt\",sep=\"\\t\")\n",
    "Fdata = French_data.loc[French_data[\"YEAR\"]<=59,:]"
   ]
  },
  {
   "cell_type": "code",
   "execution_count": 42,
   "metadata": {},
   "outputs": [],
   "source": [
    "cor = np.corrcoef(Fdata[[\"DOPROD\",\"STOCK\",\"CONSUM\"]].values.T)"
   ]
  },
  {
   "cell_type": "code",
   "execution_count": 61,
   "metadata": {},
   "outputs": [
    {
     "data": {
      "text/plain": [
       "array([1.99915493, 0.99815418, 0.00269089])"
      ]
     },
     "execution_count": 61,
     "metadata": {},
     "output_type": "execute_result"
    }
   ],
   "source": [
    "diag = np.linalg.eigvals(cor)\n",
    "diag.sort()\n",
    "diag = diag[::-1]\n",
    "diag"
   ]
  },
  {
   "cell_type": "code",
   "execution_count": 62,
   "metadata": {},
   "outputs": [
    {
     "data": {
      "text/plain": [
       "(1.4152214831664474, 27.25682703269725)"
      ]
     },
     "execution_count": 62,
     "metadata": {},
     "output_type": "execute_result"
    }
   ],
   "source": [
    "k2 = np.sqrt(diag[0]/diag[1])\n",
    "k3 = np.sqrt(diag[0]/diag[2])\n",
    "k2,k3"
   ]
  },
  {
   "cell_type": "code",
   "execution_count": 66,
   "metadata": {},
   "outputs": [
    {
     "data": {
      "text/plain": [
       "(array([1.99915493, 0.00269089, 0.99815418]),\n",
       " array([[ 0.70633041,  0.70698208,  0.03568867],\n",
       "        [ 0.04350059,  0.00697079, -0.99902908],\n",
       "        [ 0.70654444, -0.7071971 ,  0.02583046]]))"
      ]
     },
     "execution_count": 66,
     "metadata": {},
     "output_type": "execute_result"
    }
   ],
   "source": [
    "#特征向量\n",
    "#[\"DOPROD\",\"STOCK\",\"CONSUM\"]\n",
    "#STOCK变量对应的特征值最小\n",
    "np.linalg.eig(cor)"
   ]
  },
  {
   "cell_type": "code",
   "execution_count": null,
   "metadata": {},
   "outputs": [],
   "source": []
  }
 ],
 "metadata": {
  "kernelspec": {
   "display_name": "Python 3",
   "language": "python",
   "name": "python3"
  },
  "language_info": {
   "codemirror_mode": {
    "name": "ipython",
    "version": 3
   },
   "file_extension": ".py",
   "mimetype": "text/x-python",
   "name": "python",
   "nbconvert_exporter": "python",
   "pygments_lexer": "ipython3",
   "version": "3.7.2"
  }
 },
 "nbformat": 4,
 "nbformat_minor": 2
}
