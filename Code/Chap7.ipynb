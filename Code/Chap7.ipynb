{
 "cells": [
  {
   "cell_type": "markdown",
   "metadata": {},
   "source": [
    "# 加权最小二乘"
   ]
  },
  {
   "cell_type": "code",
   "execution_count": 1,
   "metadata": {},
   "outputs": [],
   "source": [
    "import pandas as pd\n",
    "import numpy as np\n",
    "import matplotlib.pyplot as plt\n",
    "import statsmodels.api as sm\n",
    "import statsmodels.formula.api as smf\n",
    "import scipy.stats as st"
   ]
  },
  {
   "cell_type": "markdown",
   "metadata": {},
   "source": [
    "## 1.能识别异方差根源"
   ]
  },
  {
   "cell_type": "code",
   "execution_count": 3,
   "metadata": {},
   "outputs": [
    {
     "data": {
      "text/html": [
       "<div>\n",
       "<style scoped>\n",
       "    .dataframe tbody tr th:only-of-type {\n",
       "        vertical-align: middle;\n",
       "    }\n",
       "\n",
       "    .dataframe tbody tr th {\n",
       "        vertical-align: top;\n",
       "    }\n",
       "\n",
       "    .dataframe thead th {\n",
       "        text-align: right;\n",
       "    }\n",
       "</style>\n",
       "<table border=\"1\" class=\"dataframe\">\n",
       "  <thead>\n",
       "    <tr style=\"text-align: right;\">\n",
       "      <th></th>\n",
       "      <th>X</th>\n",
       "      <th>Y</th>\n",
       "    </tr>\n",
       "  </thead>\n",
       "  <tbody>\n",
       "    <tr>\n",
       "      <th>0</th>\n",
       "      <td>294</td>\n",
       "      <td>30</td>\n",
       "    </tr>\n",
       "    <tr>\n",
       "      <th>1</th>\n",
       "      <td>247</td>\n",
       "      <td>32</td>\n",
       "    </tr>\n",
       "    <tr>\n",
       "      <th>2</th>\n",
       "      <td>267</td>\n",
       "      <td>37</td>\n",
       "    </tr>\n",
       "    <tr>\n",
       "      <th>3</th>\n",
       "      <td>358</td>\n",
       "      <td>44</td>\n",
       "    </tr>\n",
       "    <tr>\n",
       "      <th>4</th>\n",
       "      <td>423</td>\n",
       "      <td>47</td>\n",
       "    </tr>\n",
       "  </tbody>\n",
       "</table>\n",
       "</div>"
      ],
      "text/plain": [
       "     X   Y\n",
       "0  294  30\n",
       "1  247  32\n",
       "2  267  37\n",
       "3  358  44\n",
       "4  423  47"
      ]
     },
     "execution_count": 3,
     "metadata": {},
     "output_type": "execute_result"
    }
   ],
   "source": [
    "data = pd.read_csv(\"/Users/luofeifei/study/RegressionAnalysis/All_Data/P176.txt\",sep=\"\\t\")\n",
    "data.head()"
   ]
  },
  {
   "cell_type": "code",
   "execution_count": 4,
   "metadata": {},
   "outputs": [
    {
     "name": "stdout",
     "output_type": "stream",
     "text": [
      "                            OLS Regression Results                            \n",
      "==============================================================================\n",
      "Dep. Variable:                      Y   R-squared:                       0.776\n",
      "Model:                            OLS   Adj. R-squared:                  0.767\n",
      "Method:                 Least Squares   F-statistic:                     86.54\n",
      "Date:                Fri, 11 Sep 2020   Prob (F-statistic):           1.35e-09\n",
      "Time:                        13:48:08   Log-Likelihood:                -120.40\n",
      "No. Observations:                  27   AIC:                             244.8\n",
      "Df Residuals:                      25   BIC:                             247.4\n",
      "Df Model:                           1                                         \n",
      "Covariance Type:            nonrobust                                         \n",
      "==============================================================================\n",
      "                 coef    std err          t      P>|t|      [0.025      0.975]\n",
      "------------------------------------------------------------------------------\n",
      "Intercept     14.4481      9.562      1.511      0.143      -5.245      34.141\n",
      "X              0.1054      0.011      9.303      0.000       0.082       0.129\n",
      "==============================================================================\n",
      "Omnibus:                        0.812   Durbin-Watson:                   2.579\n",
      "Prob(Omnibus):                  0.666   Jarque-Bera (JB):                0.115\n",
      "Skew:                          -0.068   Prob(JB):                        0.944\n",
      "Kurtosis:                       3.289   Cond. No.                     1.93e+03\n",
      "==============================================================================\n",
      "\n",
      "Notes:\n",
      "[1] Standard Errors assume that the covariance matrix of the errors is correctly specified.\n",
      "[2] The condition number is large, 1.93e+03. This might indicate that there are\n",
      "strong multicollinearity or other numerical problems.\n"
     ]
    }
   ],
   "source": [
    "Ols_model = smf.ols(\"Y~X\",data).fit()\n",
    "print(Ols_model.summary())"
   ]
  },
  {
   "cell_type": "code",
   "execution_count": 6,
   "metadata": {},
   "outputs": [
    {
     "data": {
      "image/png": "[encoded data removed]",
      "text/plain": [
       "<Figure size 432x288 with 1 Axes>"
      ]
     },
     "metadata": {
      "needs_background": "light"
     },
     "output_type": "display_data"
    }
   ],
   "source": [
    "plt.plot(data.X.values,Ols_model.resid_pearson,'ko')\n",
    "plt.show()"
   ]
  },
  {
   "cell_type": "code",
   "execution_count": 14,
   "metadata": {},
   "outputs": [
    {
     "name": "stdout",
     "output_type": "stream",
     "text": [
      "                            OLS Regression Results                            \n",
      "==============================================================================\n",
      "Dep. Variable:                      y   R-squared:                       0.027\n",
      "Model:                            OLS   Adj. R-squared:                 -0.012\n",
      "Method:                 Least Squares   F-statistic:                    0.6927\n",
      "Date:                Fri, 11 Sep 2020   Prob (F-statistic):              0.413\n",
      "Time:                        13:52:18   Log-Likelihood:                 64.975\n",
      "No. Observations:                  27   AIC:                            -126.0\n",
      "Df Residuals:                      25   BIC:                            -123.4\n",
      "Df Model:                           1                                         \n",
      "Covariance Type:            nonrobust                                         \n",
      "==============================================================================\n",
      "                 coef    std err          t      P>|t|      [0.025      0.975]\n",
      "------------------------------------------------------------------------------\n",
      "const          0.1210      0.009     13.445      0.000       0.102       0.140\n",
      "X              3.8033      4.570      0.832      0.413      -5.608      13.215\n",
      "==============================================================================\n",
      "Omnibus:                        2.914   Durbin-Watson:                   2.272\n",
      "Prob(Omnibus):                  0.233   Jarque-Bera (JB):                1.324\n",
      "Skew:                          -0.035   Prob(JB):                        0.516\n",
      "Kurtosis:                       1.918   Cond. No.                     1.05e+03\n",
      "==============================================================================\n",
      "\n",
      "Notes:\n",
      "[1] Standard Errors assume that the covariance matrix of the errors is correctly specified.\n",
      "[2] The condition number is large, 1.05e+03. This might indicate that there are\n",
      "strong multicollinearity or other numerical problems.\n"
     ]
    }
   ],
   "source": [
    "Wls_model = sm.OLS(data.Y/data.X,sm.add_constant(1/data.X)).fit()\n",
    "print(Wls_model.summary())"
   ]
  },
  {
   "cell_type": "markdown",
   "metadata": {},
   "source": [
    "## 2.不能识别异方差根源"
   ]
  },
  {
   "cell_type": "code",
   "execution_count": 138,
   "metadata": {},
   "outputs": [],
   "source": [
    "edu_data = pd.read_csv(\"/Users/luofeifei/study/RegressionAnalysis/All_Data/P198.txt\",sep=' \\t',engine='python')\n",
    "edu_data = edu_data.drop(48)\n",
    "edu_data.set_index(\"State\",drop=True)\n",
    "edu_Model = smf.ols(\"Y~X1+X2+X3\",edu_data).fit()\n",
    "\n",
    "sigma = sum(edu_Model.resid.values**2)/49\n",
    "edu_data = pd.concat([edu_data,edu_Model.resid],axis=1)\n",
    "edu_data.columns = [\"State\",\"Y\",\"X1\",\"X2\",\"X3\",\"Region\",\"se\"]"
   ]
  },
  {
   "cell_type": "code",
   "execution_count": 139,
   "metadata": {},
   "outputs": [
    {
     "name": "stderr",
     "output_type": "stream",
     "text": [
      "/Users/luofeifei/anaconda3/lib/python3.7/site-packages/pandas/core/indexing.py:1717: SettingWithCopyWarning: \n",
      "A value is trying to be set on a copy of a slice from a DataFrame.\n",
      "Try using .loc[row_indexer,col_indexer] = value instead\n",
      "\n",
      "See the caveats in the documentation: https://pandas.pydata.org/pandas-docs/stable/user_guide/indexing.html#returning-a-view-versus-a-copy\n",
      "  isetter(loc, v)\n",
      "/Users/luofeifei/anaconda3/lib/python3.7/site-packages/ipykernel_launcher.py:30: SettingWithCopyWarning: \n",
      "A value is trying to be set on a copy of a slice from a DataFrame.\n",
      "Try using .loc[row_indexer,col_indexer] = value instead\n",
      "\n",
      "See the caveats in the documentation: https://pandas.pydata.org/pandas-docs/stable/user_guide/indexing.html#returning-a-view-versus-a-copy\n",
      "/Users/luofeifei/anaconda3/lib/python3.7/site-packages/ipykernel_launcher.py:31: SettingWithCopyWarning: \n",
      "A value is trying to be set on a copy of a slice from a DataFrame.\n",
      "Try using .loc[row_indexer,col_indexer] = value instead\n",
      "\n",
      "See the caveats in the documentation: https://pandas.pydata.org/pandas-docs/stable/user_guide/indexing.html#returning-a-view-versus-a-copy\n",
      "/Users/luofeifei/anaconda3/lib/python3.7/site-packages/ipykernel_launcher.py:32: SettingWithCopyWarning: \n",
      "A value is trying to be set on a copy of a slice from a DataFrame.\n",
      "Try using .loc[row_indexer,col_indexer] = value instead\n",
      "\n",
      "See the caveats in the documentation: https://pandas.pydata.org/pandas-docs/stable/user_guide/indexing.html#returning-a-view-versus-a-copy\n",
      "/Users/luofeifei/anaconda3/lib/python3.7/site-packages/ipykernel_launcher.py:33: SettingWithCopyWarning: \n",
      "A value is trying to be set on a copy of a slice from a DataFrame.\n",
      "Try using .loc[row_indexer,col_indexer] = value instead\n",
      "\n",
      "See the caveats in the documentation: https://pandas.pydata.org/pandas-docs/stable/user_guide/indexing.html#returning-a-view-versus-a-copy\n"
     ]
    }
   ],
   "source": [
    "state1 = edu_data.loc[edu_data[\"Region\"]==1,:]\n",
    "state2 = edu_data.loc[edu_data[\"Region\"]==2,:]\n",
    "state3 = edu_data.loc[edu_data[\"Region\"]==3,:]\n",
    "state4 = edu_data.loc[edu_data[\"Region\"]==4,:]\n",
    "\n",
    "sig1 = sum(state1.se.values**2)/(state1.shape[0]-1)\n",
    "sig2 = sum(state2.se.values**2)/(state2.shape[0]-1)\n",
    "sig3 = sum(state3.se.values**2)/(state3.shape[0]-1)\n",
    "sig4 = sum(state4.se.values**2)/(state4.shape[0]-1)\n",
    "\n",
    "c1 = np.sqrt(sig1/sigma)\n",
    "c2 = np.sqrt(sig2/sigma)\n",
    "c3 = np.sqrt(sig3/sigma)\n",
    "c4 = np.sqrt(sig4/sigma)\n",
    "\n",
    "def fun1(x):\n",
    "    return x/c1\n",
    "def fun2(x):\n",
    "    return x/c2\n",
    "def fun3(x):\n",
    "    return x/c3\n",
    "def fun4(x):\n",
    "    return x/c4\n",
    "\n",
    "state1.loc[:,[\"Y\",\"X1\",\"X2\",\"X3\"]] = state1.loc[:,[\"Y\",\"X1\",\"X2\",\"X3\"]].apply(fun1)\n",
    "state2.loc[:,[\"Y\",\"X1\",\"X2\",\"X3\"]] = state2.loc[:,[\"Y\",\"X1\",\"X2\",\"X3\"]].apply(fun2)\n",
    "state3.loc[:,[\"Y\",\"X1\",\"X2\",\"X3\"]] = state3.loc[:,[\"Y\",\"X1\",\"X2\",\"X3\"]].apply(fun3)\n",
    "state4.loc[:,[\"Y\",\"X1\",\"X2\",\"X3\"]] = state4.loc[:,[\"Y\",\"X1\",\"X2\",\"X3\"]].apply(fun4)\n",
    "\n",
    "state1[\"con\"] = np.full(len(state1),1/c1)\n",
    "state2[\"con\"] = np.full(len(state2),1/c2)\n",
    "state3[\"con\"] = np.full(len(state3),1/c3)\n",
    "state4[\"con\"] = np.full(len(state4),1/c4)"
   ]
  },
  {
   "cell_type": "code",
   "execution_count": 140,
   "metadata": {},
   "outputs": [
    {
     "data": {
      "text/html": [
       "<div>\n",
       "<style scoped>\n",
       "    .dataframe tbody tr th:only-of-type {\n",
       "        vertical-align: middle;\n",
       "    }\n",
       "\n",
       "    .dataframe tbody tr th {\n",
       "        vertical-align: top;\n",
       "    }\n",
       "\n",
       "    .dataframe thead th {\n",
       "        text-align: right;\n",
       "    }\n",
       "</style>\n",
       "<table border=\"1\" class=\"dataframe\">\n",
       "  <thead>\n",
       "    <tr style=\"text-align: right;\">\n",
       "      <th></th>\n",
       "      <th>State</th>\n",
       "      <th>Y</th>\n",
       "      <th>X1</th>\n",
       "      <th>X2</th>\n",
       "      <th>X3</th>\n",
       "      <th>Region</th>\n",
       "      <th>se</th>\n",
       "      <th>con</th>\n",
       "    </tr>\n",
       "  </thead>\n",
       "  <tbody>\n",
       "    <tr>\n",
       "      <th>0</th>\n",
       "      <td>ME</td>\n",
       "      <td>199.585952</td>\n",
       "      <td>3349.646787</td>\n",
       "      <td>276.023125</td>\n",
       "      <td>431.445377</td>\n",
       "      <td>1</td>\n",
       "      <td>-0.073537</td>\n",
       "      <td>0.849302</td>\n",
       "    </tr>\n",
       "    <tr>\n",
       "      <th>1</th>\n",
       "      <td>NH</td>\n",
       "      <td>196.188744</td>\n",
       "      <td>3888.104207</td>\n",
       "      <td>274.324521</td>\n",
       "      <td>479.006285</td>\n",
       "      <td>1</td>\n",
       "      <td>-36.657998</td>\n",
       "      <td>0.849302</td>\n",
       "    </tr>\n",
       "    <tr>\n",
       "      <th>2</th>\n",
       "      <td>VT</td>\n",
       "      <td>229.311519</td>\n",
       "      <td>3406.550016</td>\n",
       "      <td>278.571031</td>\n",
       "      <td>273.475219</td>\n",
       "      <td>1</td>\n",
       "      <td>41.453284</td>\n",
       "      <td>0.849302</td>\n",
       "    </tr>\n",
       "    <tr>\n",
       "      <th>3</th>\n",
       "      <td>MA</td>\n",
       "      <td>221.667802</td>\n",
       "      <td>4444.396967</td>\n",
       "      <td>259.037087</td>\n",
       "      <td>718.509428</td>\n",
       "      <td>1</td>\n",
       "      <td>-41.160696</td>\n",
       "      <td>0.849302</td>\n",
       "    </tr>\n",
       "    <tr>\n",
       "      <th>4</th>\n",
       "      <td>RI</td>\n",
       "      <td>254.790577</td>\n",
       "      <td>4059.663196</td>\n",
       "      <td>257.338483</td>\n",
       "      <td>739.741976</td>\n",
       "      <td>1</td>\n",
       "      <td>19.820253</td>\n",
       "      <td>0.849302</td>\n",
       "    </tr>\n",
       "  </tbody>\n",
       "</table>\n",
       "</div>"
      ],
      "text/plain": [
       "  State           Y           X1          X2          X3  Region         se  \\\n",
       "0   ME   199.585952  3349.646787  276.023125  431.445377       1  -0.073537   \n",
       "1   NH   196.188744  3888.104207  274.324521  479.006285       1 -36.657998   \n",
       "2   VT   229.311519  3406.550016  278.571031  273.475219       1  41.453284   \n",
       "3   MA   221.667802  4444.396967  259.037087  718.509428       1 -41.160696   \n",
       "4   RI   254.790577  4059.663196  257.338483  739.741976       1  19.820253   \n",
       "\n",
       "        con  \n",
       "0  0.849302  \n",
       "1  0.849302  \n",
       "2  0.849302  \n",
       "3  0.849302  \n",
       "4  0.849302  "
      ]
     },
     "execution_count": 140,
     "metadata": {},
     "output_type": "execute_result"
    }
   ],
   "source": [
    "newdata = pd.concat([state1,state2,state3,state4],axis=0)\n",
    "newdata.head()"
   ]
  },
  {
   "cell_type": "code",
   "execution_count": 141,
   "metadata": {},
   "outputs": [],
   "source": [
    "WLS_model = smf.ols(\"Y~X1+X2+X3+con-1\",newdata).fit()"
   ]
  },
  {
   "cell_type": "code",
   "execution_count": 142,
   "metadata": {},
   "outputs": [
    {
     "name": "stdout",
     "output_type": "stream",
     "text": [
      "                                 OLS Regression Results                                \n",
      "=======================================================================================\n",
      "Dep. Variable:                      Y   R-squared (uncentered):                   0.993\n",
      "Model:                            OLS   Adj. R-squared (uncentered):              0.992\n",
      "Method:                 Least Squares   F-statistic:                              1595.\n",
      "Date:                Sat, 12 Sep 2020   Prob (F-statistic):                    7.72e-48\n",
      "Time:                        18:51:32   Log-Likelihood:                         -237.76\n",
      "No. Observations:                  49   AIC:                                      483.5\n",
      "Df Residuals:                      45   BIC:                                      491.1\n",
      "Df Model:                           4                                                  \n",
      "Covariance Type:            nonrobust                                                  \n",
      "==============================================================================\n",
      "                 coef    std err          t      P>|t|      [0.025      0.975]\n",
      "------------------------------------------------------------------------------\n",
      "X1             0.0625      0.008      8.005      0.000       0.047       0.078\n",
      "X2             0.8740      0.198      4.405      0.000       0.474       1.274\n",
      "X3             0.0289      0.034      0.851      0.399      -0.040       0.097\n",
      "con         -316.0237     77.419     -4.082      0.000    -471.953    -160.094\n",
      "==============================================================================\n",
      "Omnibus:                        6.415   Durbin-Watson:                   2.012\n",
      "Prob(Omnibus):                  0.040   Jarque-Bera (JB):                2.407\n",
      "Skew:                           0.146   Prob(JB):                        0.300\n",
      "Kurtosis:                       1.954   Cond. No.                     1.05e+05\n",
      "==============================================================================\n",
      "\n",
      "Notes:\n",
      "[1] R² is computed without centering (uncentered) since the model does not contain a constant.\n",
      "[2] Standard Errors assume that the covariance matrix of the errors is correctly specified.\n",
      "[3] The condition number is large, 1.05e+05. This might indicate that there are\n",
      "strong multicollinearity or other numerical problems.\n"
     ]
    }
   ],
   "source": [
    "print(WLS_model.summary())"
   ]
  }
 ],
 "metadata": {
  "kernelspec": {
   "display_name": "Python 3",
   "language": "python",
   "name": "python3"
  },
  "language_info": {
   "codemirror_mode": {
    "name": "ipython",
    "version": 3
   },
   "file_extension": ".py",
   "mimetype": "text/x-python",
   "name": "python",
   "nbconvert_exporter": "python",
   "pygments_lexer": "ipython3",
   "version": "3.7.2"
  }
 },
 "nbformat": 4,
 "nbformat_minor": 2
}
