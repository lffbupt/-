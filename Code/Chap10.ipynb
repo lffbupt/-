{
 "cells": [
  {
   "cell_type": "markdown",
   "metadata": {},
   "source": [
    "# 共线性数据处理\n",
    "## 1.主成分分析"
   ]
  },
  {
   "cell_type": "code",
   "execution_count": 1,
   "metadata": {},
   "outputs": [],
   "source": [
    "import pandas as pd\n",
    "import numpy as np\n",
    "import matplotlib.pyplot as plt\n",
    "import statsmodels.api as sm\n",
    "import statsmodels.formula.api as smf\n",
    "import scipy.stats as st\n",
    "np.set_printoptions(suppress=True)"
   ]
  },
  {
   "cell_type": "code",
   "execution_count": 2,
   "metadata": {},
   "outputs": [],
   "source": [
    "Import_data = pd.read_csv(\"/Users/luofeifei/study/RegressionAnalysis/All_Data/P241.txt\",sep=\"\\t\")\n",
    "Import_data.loc[:,:] = Import_data.loc[Import_data[\"YEAR\"]<=59,:]\n",
    "Import_data = Import_data.dropna()\n",
    "Import_data.set_index(\"YEAR\",inplace=True,drop=True)\n",
    "Import_data = Import_data[[\"DOPROD\",\"STOCK\",\"CONSUM\"]]"
   ]
  },
  {
   "cell_type": "code",
   "execution_count": 3,
   "metadata": {},
   "outputs": [],
   "source": [
    "meanv = Import_data.apply(np.mean,axis=0)\n",
    "varv = Import_data.apply(np.var,axis=0)"
   ]
  },
  {
   "cell_type": "code",
   "execution_count": 4,
   "metadata": {},
   "outputs": [],
   "source": [
    "Import_data.loc[:,:] = (Import_data.values - meanv.values)/np.sqrt(varv.values)"
   ]
  },
  {
   "cell_type": "code",
   "execution_count": 5,
   "metadata": {},
   "outputs": [
    {
     "data": {
      "text/html": [
       "<div>\n",
       "<style scoped>\n",
       "    .dataframe tbody tr th:only-of-type {\n",
       "        vertical-align: middle;\n",
       "    }\n",
       "\n",
       "    .dataframe tbody tr th {\n",
       "        vertical-align: top;\n",
       "    }\n",
       "\n",
       "    .dataframe thead th {\n",
       "        text-align: right;\n",
       "    }\n",
       "</style>\n",
       "<table border=\"1\" class=\"dataframe\">\n",
       "  <thead>\n",
       "    <tr style=\"text-align: right;\">\n",
       "      <th></th>\n",
       "      <th>DOPROD</th>\n",
       "      <th>STOCK</th>\n",
       "      <th>CONSUM</th>\n",
       "    </tr>\n",
       "  </thead>\n",
       "  <tbody>\n",
       "    <tr>\n",
       "      <th>DOPROD</th>\n",
       "      <td>1.000000</td>\n",
       "      <td>0.025851</td>\n",
       "      <td>0.997261</td>\n",
       "    </tr>\n",
       "    <tr>\n",
       "      <th>STOCK</th>\n",
       "      <td>0.025851</td>\n",
       "      <td>1.000000</td>\n",
       "      <td>0.035673</td>\n",
       "    </tr>\n",
       "    <tr>\n",
       "      <th>CONSUM</th>\n",
       "      <td>0.997261</td>\n",
       "      <td>0.035673</td>\n",
       "      <td>1.000000</td>\n",
       "    </tr>\n",
       "  </tbody>\n",
       "</table>\n",
       "</div>"
      ],
      "text/plain": [
       "          DOPROD     STOCK    CONSUM\n",
       "DOPROD  1.000000  0.025851  0.997261\n",
       "STOCK   0.025851  1.000000  0.035673\n",
       "CONSUM  0.997261  0.035673  1.000000"
      ]
     },
     "execution_count": 5,
     "metadata": {},
     "output_type": "execute_result"
    }
   ],
   "source": [
    "corr = Import_data.corr()\n",
    "corr"
   ]
  },
  {
   "cell_type": "code",
   "execution_count": 6,
   "metadata": {},
   "outputs": [],
   "source": [
    "inf = np.linalg.eig(corr.values)"
   ]
  },
  {
   "cell_type": "code",
   "execution_count": 7,
   "metadata": {},
   "outputs": [
    {
     "data": {
      "text/plain": [
       "(array([1.99915493, 0.00269089, 0.99815418]),\n",
       " array([[ 0.70633041,  0.70698208,  0.03568867],\n",
       "        [ 0.04350059,  0.00697079, -0.99902908],\n",
       "        [ 0.70654444, -0.7071971 ,  0.02583046]]))"
      ]
     },
     "execution_count": 7,
     "metadata": {},
     "output_type": "execute_result"
    }
   ],
   "source": [
    "#特征值与特征向量\n",
    "inf[0],inf[1]"
   ]
  },
  {
   "cell_type": "code",
   "execution_count": 8,
   "metadata": {},
   "outputs": [
    {
     "data": {
      "text/plain": [
       "array([0.70633041, 0.04350059, 0.70654444])"
      ]
     },
     "execution_count": 8,
     "metadata": {},
     "output_type": "execute_result"
    }
   ],
   "source": [
    "inf[1][:,0]"
   ]
  },
  {
   "cell_type": "code",
   "execution_count": 9,
   "metadata": {},
   "outputs": [],
   "source": [
    "C1 = np.dot(Import_data.values,inf[1][:,0])"
   ]
  },
  {
   "cell_type": "code",
   "execution_count": 15,
   "metadata": {},
   "outputs": [],
   "source": [
    "C2 = np.dot(Import_data.values,inf[1][:,2])"
   ]
  },
  {
   "cell_type": "code",
   "execution_count": 17,
   "metadata": {},
   "outputs": [],
   "source": [
    "C3 = np.dot(Import_data.values,inf[1][:,1])"
   ]
  },
  {
   "cell_type": "code",
   "execution_count": 22,
   "metadata": {},
   "outputs": [
    {
     "data": {
      "text/plain": [
       "(array([-2.22964934, -1.69794525, -1.16959756, -0.93794616, -0.67565112,\n",
       "        -0.19964226,  0.37717464,  1.01923436,  1.63542429,  1.85324009,\n",
       "         2.02535831]),\n",
       " array([-0.66983032, -0.58265445,  0.07654175,  0.08639036,  1.37046303,\n",
       "         0.69131968,  0.77997236, -1.42014882, -1.01109953, -1.06476864,\n",
       "         1.74381457]),\n",
       " array([ 0.02173374,  0.07458412,  0.0227907 , -0.01134096, -0.07612514,\n",
       "        -0.02784852, -0.04486935, -0.06593076, -0.0247251 ,  0.047184  ,\n",
       "         0.08454728]))"
      ]
     },
     "execution_count": 22,
     "metadata": {},
     "output_type": "execute_result"
    }
   ],
   "source": [
    "C1,C2,C3"
   ]
  },
  {
   "cell_type": "markdown",
   "metadata": {},
   "source": [
    "### 调包"
   ]
  },
  {
   "cell_type": "code",
   "execution_count": 19,
   "metadata": {},
   "outputs": [],
   "source": [
    "from sklearn.decomposition import PCA"
   ]
  },
  {
   "cell_type": "code",
   "execution_count": 20,
   "metadata": {},
   "outputs": [],
   "source": [
    "pca = PCA(n_components=3)\n",
    "C = pca.fit(Import_data.values).transform(Import_data.values)"
   ]
  },
  {
   "cell_type": "code",
   "execution_count": 21,
   "metadata": {},
   "outputs": [
    {
     "data": {
      "text/plain": [
       "array([[ 2.22964934, -0.66983032,  0.02173374],\n",
       "       [ 1.69794525, -0.58265445,  0.07458412],\n",
       "       [ 1.16959756,  0.07654175,  0.0227907 ],\n",
       "       [ 0.93794616,  0.08639036, -0.01134096],\n",
       "       [ 0.67565112,  1.37046303, -0.07612514],\n",
       "       [ 0.19964226,  0.69131968, -0.02784852],\n",
       "       [-0.37717464,  0.77997236, -0.04486935],\n",
       "       [-1.01923436, -1.42014882, -0.06593076],\n",
       "       [-1.63542429, -1.01109953, -0.0247251 ],\n",
       "       [-1.85324009, -1.06476864,  0.047184  ],\n",
       "       [-2.02535831,  1.74381457,  0.08454728]])"
      ]
     },
     "execution_count": 21,
     "metadata": {},
     "output_type": "execute_result"
    }
   ],
   "source": [
    "C"
   ]
  },
  {
   "cell_type": "markdown",
   "metadata": {},
   "source": [
    "## 2.主成分回归"
   ]
  },
  {
   "cell_type": "code",
   "execution_count": 78,
   "metadata": {},
   "outputs": [],
   "source": [
    "Import_data = pd.read_csv(\"/Users/luofeifei/study/RegressionAnalysis/All_Data/P241.txt\",sep=\"\\t\")\n",
    "Import_data.loc[:,:] = Import_data.loc[Import_data[\"YEAR\"]<=59,:]\n",
    "Import_data = Import_data.dropna()\n",
    "Import_data.set_index(\"YEAR\",inplace=True,drop=True)"
   ]
  },
  {
   "cell_type": "code",
   "execution_count": 79,
   "metadata": {},
   "outputs": [
    {
     "data": {
      "text/html": [
       "<div>\n",
       "<style scoped>\n",
       "    .dataframe tbody tr th:only-of-type {\n",
       "        vertical-align: middle;\n",
       "    }\n",
       "\n",
       "    .dataframe tbody tr th {\n",
       "        vertical-align: top;\n",
       "    }\n",
       "\n",
       "    .dataframe thead th {\n",
       "        text-align: right;\n",
       "    }\n",
       "</style>\n",
       "<table border=\"1\" class=\"dataframe\">\n",
       "  <thead>\n",
       "    <tr style=\"text-align: right;\">\n",
       "      <th></th>\n",
       "      <th>IMPORT</th>\n",
       "      <th>DOPROD</th>\n",
       "      <th>STOCK</th>\n",
       "      <th>CONSUM</th>\n",
       "    </tr>\n",
       "    <tr>\n",
       "      <th>YEAR</th>\n",
       "      <th></th>\n",
       "      <th></th>\n",
       "      <th></th>\n",
       "      <th></th>\n",
       "    </tr>\n",
       "  </thead>\n",
       "  <tbody>\n",
       "    <tr>\n",
       "      <th>49.0</th>\n",
       "      <td>15.9</td>\n",
       "      <td>149.3</td>\n",
       "      <td>4.2</td>\n",
       "      <td>108.1</td>\n",
       "    </tr>\n",
       "    <tr>\n",
       "      <th>50.0</th>\n",
       "      <td>16.4</td>\n",
       "      <td>161.2</td>\n",
       "      <td>4.1</td>\n",
       "      <td>114.8</td>\n",
       "    </tr>\n",
       "    <tr>\n",
       "      <th>51.0</th>\n",
       "      <td>19.0</td>\n",
       "      <td>171.5</td>\n",
       "      <td>3.1</td>\n",
       "      <td>123.2</td>\n",
       "    </tr>\n",
       "    <tr>\n",
       "      <th>52.0</th>\n",
       "      <td>19.1</td>\n",
       "      <td>175.5</td>\n",
       "      <td>3.1</td>\n",
       "      <td>126.9</td>\n",
       "    </tr>\n",
       "    <tr>\n",
       "      <th>53.0</th>\n",
       "      <td>18.8</td>\n",
       "      <td>180.8</td>\n",
       "      <td>1.1</td>\n",
       "      <td>132.1</td>\n",
       "    </tr>\n",
       "  </tbody>\n",
       "</table>\n",
       "</div>"
      ],
      "text/plain": [
       "      IMPORT  DOPROD  STOCK  CONSUM\n",
       "YEAR                               \n",
       "49.0    15.9   149.3    4.2   108.1\n",
       "50.0    16.4   161.2    4.1   114.8\n",
       "51.0    19.0   171.5    3.1   123.2\n",
       "52.0    19.1   175.5    3.1   126.9\n",
       "53.0    18.8   180.8    1.1   132.1"
      ]
     },
     "execution_count": 79,
     "metadata": {},
     "output_type": "execute_result"
    }
   ],
   "source": [
    "Import_data.head()"
   ]
  },
  {
   "cell_type": "code",
   "execution_count": 384,
   "metadata": {},
   "outputs": [],
   "source": [
    "X = Import_data[[\"DOPROD\",\"STOCK\",\"CONSUM\"]].values\n",
    "Y = Import_data.IMPORT.values"
   ]
  },
  {
   "cell_type": "code",
   "execution_count": 385,
   "metadata": {},
   "outputs": [],
   "source": [
    "sy = np.sqrt(Y.var()*len(Y))\n",
    "sx = np.sqrt(X.var(axis=0)*len(Y))\n",
    "ymean = Y.mean()\n",
    "xmean = X.mean(axis=0)"
   ]
  },
  {
   "cell_type": "code",
   "execution_count": 386,
   "metadata": {},
   "outputs": [],
   "source": [
    "#主成分：可单位化，可标准化\n",
    "#岭回归：只能单位化，因为单位化的相关系数矩阵刚好等于Z.T*Z，标准化就错了\n",
    "#单位化和标准化都不影响相关系数，但影响协方差，单位化协方差小于1正好等于相关系数，标准化的协方差一般与相关系数差一个常数倍\n",
    "X = (X - xmean)/sx\n",
    "Y = (Y - ymean)/sy"
   ]
  },
  {
   "cell_type": "code",
   "execution_count": 331,
   "metadata": {},
   "outputs": [],
   "source": [
    "#协方差矩阵\n",
    "cor = np.corrcoef(X.T)"
   ]
  },
  {
   "cell_type": "code",
   "execution_count": 332,
   "metadata": {},
   "outputs": [],
   "source": [
    "#特征值与特征向量,按小到大的顺序排列\n",
    "eigh = np.linalg.eigh(cor)\n",
    "C = np.dot(X,eigh[1])"
   ]
  },
  {
   "cell_type": "code",
   "execution_count": 333,
   "metadata": {},
   "outputs": [
    {
     "data": {
      "text/plain": [
       "(array([1.99915493, 0.00269089, 0.99815418]),\n",
       " array([[ 0.70633041,  0.70698208,  0.03568867],\n",
       "        [ 0.04350059,  0.00697079, -0.99902908],\n",
       "        [ 0.70654444, -0.7071971 ,  0.02583046]]))"
      ]
     },
     "execution_count": 333,
     "metadata": {},
     "output_type": "execute_result"
    }
   ],
   "source": [
    "np.linalg.eig(cor)"
   ]
  },
  {
   "cell_type": "markdown",
   "metadata": {},
   "source": [
    "### 只有一个主成分"
   ]
  },
  {
   "cell_type": "code",
   "execution_count": 334,
   "metadata": {},
   "outputs": [
    {
     "name": "stdout",
     "output_type": "stream",
     "text": [
      "                                 OLS Regression Results                                \n",
      "=======================================================================================\n",
      "Dep. Variable:                      y   R-squared (uncentered):                   0.952\n",
      "Model:                            OLS   Adj. R-squared (uncentered):              0.947\n",
      "Method:                 Least Squares   F-statistic:                              197.2\n",
      "Date:                Mon, 14 Sep 2020   Prob (F-statistic):                    6.57e-08\n",
      "Time:                        16:45:56   Log-Likelihood:                          14.252\n",
      "No. Observations:                  11   AIC:                                     -26.50\n",
      "Df Residuals:                      10   BIC:                                     -26.11\n",
      "Df Model:                           1                                                  \n",
      "Covariance Type:            nonrobust                                                  \n",
      "==============================================================================\n",
      "                 coef    std err          t      P>|t|      [0.025      0.975]\n",
      "------------------------------------------------------------------------------\n",
      "x1            -0.6900      0.049    -14.044      0.000      -0.799      -0.581\n",
      "==============================================================================\n",
      "Omnibus:                        0.231   Durbin-Watson:                   1.238\n",
      "Prob(Omnibus):                  0.891   Jarque-Bera (JB):                0.398\n",
      "Skew:                           0.016   Prob(JB):                        0.820\n",
      "Kurtosis:                       2.069   Cond. No.                         1.00\n",
      "==============================================================================\n",
      "\n",
      "Notes:\n",
      "[1] R² is computed without centering (uncentered) since the model does not contain a constant.\n",
      "[2] Standard Errors assume that the covariance matrix of the errors is correctly specified.\n"
     ]
    },
    {
     "name": "stderr",
     "output_type": "stream",
     "text": [
      "/Users/luofeifei/anaconda3/lib/python3.7/site-packages/scipy/stats/stats.py:1394: UserWarning: kurtosistest only valid for n>=20 ... continuing anyway, n=11\n",
      "  \"anyway, n=%i\" % int(n))\n"
     ]
    }
   ],
   "source": [
    "#一个主成分的模型\n",
    "model_10_29 = sm.OLS(Y,C[:,2]).fit()\n",
    "print(model_10_29.summary())"
   ]
  },
  {
   "cell_type": "code",
   "execution_count": 451,
   "metadata": {},
   "outputs": [
    {
     "data": {
      "text/plain": [
       "(array([ 0.04689834, -0.02891727,  0.04212008,  0.00088767, -0.07455876,\n",
       "        -0.06223045, -0.02215575,  0.10874222,  0.09190761,  0.01179504,\n",
       "        -0.11448872]),\n",
       " array([ 0.67515115, -0.41629464,  0.60636308,  0.01277893, -1.0733521 ,\n",
       "        -0.89587307, -0.31895549,  1.56545902,  1.32310715,  0.16980199,\n",
       "        -1.64818602]))"
      ]
     },
     "execution_count": 451,
     "metadata": {},
     "output_type": "execute_result"
    }
   ],
   "source": []
  },
  {
   "cell_type": "code",
   "execution_count": 335,
   "metadata": {},
   "outputs": [],
   "source": [
    "#将其化为标准化的模型\n",
    "a = np.array([0,0,model_10_29.params.item()]).reshape(-1,1)\n",
    "theta = np.dot(eigh[1],a)"
   ]
  },
  {
   "cell_type": "code",
   "execution_count": 336,
   "metadata": {},
   "outputs": [
    {
     "data": {
      "text/plain": [
       "array([[ 0.        ],\n",
       "       [ 0.        ],\n",
       "       [-0.68998209]])"
      ]
     },
     "execution_count": 336,
     "metadata": {},
     "output_type": "execute_result"
    }
   ],
   "source": [
    "a"
   ]
  },
  {
   "cell_type": "code",
   "execution_count": 337,
   "metadata": {},
   "outputs": [
    {
     "data": {
      "text/plain": [
       "array([[0.48735534],\n",
       "       [0.03001463],\n",
       "       [0.48750301]])"
      ]
     },
     "execution_count": 337,
     "metadata": {},
     "output_type": "execute_result"
    }
   ],
   "source": [
    "#只有一个主成分的标准化模型的theta值\n",
    "theta"
   ]
  },
  {
   "cell_type": "markdown",
   "metadata": {},
   "source": [
    "* 要注意顺序！！因为X的协方差矩阵排列顺序（乱序，不一定按特征值大小排列，需要用eigh函数，特征向量按特征值从小到大排列）与C1，C2，C3的排列顺序（按照特征值从大到小排列）不一致。a的顺序必须和C的顺序一致，即a[0],a[1],a[2]的值必须对应到主成分Ci的值，上述分析中，C3是最大的主成分，从而a[2]是该主成分回归的系数值,a[0],a[1]取0"
   ]
  },
  {
   "cell_type": "markdown",
   "metadata": {},
   "source": [
    "### 两个主成分"
   ]
  },
  {
   "cell_type": "code",
   "execution_count": 338,
   "metadata": {},
   "outputs": [
    {
     "name": "stdout",
     "output_type": "stream",
     "text": [
      "                                 OLS Regression Results                                \n",
      "=======================================================================================\n",
      "Dep. Variable:                      y   R-squared (uncentered):                   0.988\n",
      "Model:                            OLS   Adj. R-squared (uncentered):              0.986\n",
      "Method:                 Least Squares   F-statistic:                              379.4\n",
      "Date:                Mon, 14 Sep 2020   Prob (F-statistic):                    2.04e-09\n",
      "Time:                        16:45:58   Log-Likelihood:                          22.035\n",
      "No. Observations:                  11   AIC:                                     -40.07\n",
      "Df Residuals:                       9   BIC:                                     -39.27\n",
      "Df Model:                           2                                                  \n",
      "Covariance Type:            nonrobust                                                  \n",
      "==============================================================================\n",
      "                 coef    std err          t      P>|t|      [0.025      0.975]\n",
      "------------------------------------------------------------------------------\n",
      "x1            -0.1913      0.036     -5.296      0.000      -0.273      -0.110\n",
      "x2            -0.6900      0.026    -27.032      0.000      -0.748      -0.632\n",
      "==============================================================================\n",
      "Omnibus:                        1.007   Durbin-Watson:                   2.524\n",
      "Prob(Omnibus):                  0.604   Jarque-Bera (JB):                0.793\n",
      "Skew:                          -0.548   Prob(JB):                        0.673\n",
      "Kurtosis:                       2.273   Cond. No.                         1.42\n",
      "==============================================================================\n",
      "\n",
      "Notes:\n",
      "[1] R² is computed without centering (uncentered) since the model does not contain a constant.\n",
      "[2] Standard Errors assume that the covariance matrix of the errors is correctly specified.\n"
     ]
    },
    {
     "name": "stderr",
     "output_type": "stream",
     "text": [
      "/Users/luofeifei/anaconda3/lib/python3.7/site-packages/scipy/stats/stats.py:1394: UserWarning: kurtosistest only valid for n>=20 ... continuing anyway, n=11\n",
      "  \"anyway, n=%i\" % int(n))\n"
     ]
    }
   ],
   "source": [
    "model_10_30 = sm.OLS(Y,C[:,1:]).fit()\n",
    "print(model_10_30.summary())"
   ]
  },
  {
   "cell_type": "code",
   "execution_count": 339,
   "metadata": {},
   "outputs": [],
   "source": [
    "a2 = [0,model_10_30.params[0].item(),model_10_30.params[1].item()]\n",
    "a2 = np.array(a2).reshape(-1,1)"
   ]
  },
  {
   "cell_type": "code",
   "execution_count": 340,
   "metadata": {},
   "outputs": [],
   "source": [
    "theta2 = np.dot(eigh[1],a2)"
   ]
  },
  {
   "cell_type": "code",
   "execution_count": 341,
   "metadata": {},
   "outputs": [
    {
     "data": {
      "text/plain": [
       "array([[0.48052797],\n",
       "       [0.22113231],\n",
       "       [0.48256156]])"
      ]
     },
     "execution_count": 341,
     "metadata": {},
     "output_type": "execute_result"
    }
   ],
   "source": [
    "theta2"
   ]
  },
  {
   "cell_type": "code",
   "execution_count": 342,
   "metadata": {},
   "outputs": [
    {
     "data": {
      "text/plain": [
       "array([[0.07277981],\n",
       "       [0.60922012],\n",
       "       [0.10625939]])"
      ]
     },
     "execution_count": 342,
     "metadata": {},
     "output_type": "execute_result"
    }
   ],
   "source": [
    "#换成非标准化的系数\n",
    "beta = np.multiply((sy/sx).reshape(-1,1),theta2)\n",
    "beta"
   ]
  },
  {
   "cell_type": "code",
   "execution_count": 343,
   "metadata": {},
   "outputs": [],
   "source": [
    "beta0 = ymean - np.dot(xmean,beta)"
   ]
  },
  {
   "cell_type": "code",
   "execution_count": 344,
   "metadata": {},
   "outputs": [
    {
     "data": {
      "text/plain": [
       "array([-9.13010782])"
      ]
     },
     "execution_count": 344,
     "metadata": {},
     "output_type": "execute_result"
    }
   ],
   "source": [
    "beta0"
   ]
  },
  {
   "cell_type": "markdown",
   "metadata": {},
   "source": [
    "# 3.约束条件"
   ]
  },
  {
   "cell_type": "code",
   "execution_count": 345,
   "metadata": {},
   "outputs": [
    {
     "data": {
      "text/plain": [
       "0.6878245160877823"
      ]
     },
     "execution_count": 345,
     "metadata": {},
     "output_type": "execute_result"
    }
   ],
   "source": [
    "#C3 = 0的等价与给原模型加的约束条件：beta1 = 0.69beta2\n",
    "sx[2]/sx[0]"
   ]
  },
  {
   "cell_type": "markdown",
   "metadata": {},
   "source": [
    "# 4.岭回归"
   ]
  },
  {
   "cell_type": "code",
   "execution_count": 404,
   "metadata": {},
   "outputs": [],
   "source": [
    "def beta(Y,X,k):\n",
    "    L0 = np.dot(X.T,X)\n",
    "    L1 = L0+k*np.diag(np.ones(X.shape[1]))\n",
    "    L2 = np.linalg.inv(L1)\n",
    "    L3 = np.dot(L2,X.T)\n",
    "    ans = np.dot(L3,Y).reshape(-1,1)\n",
    "    return ans\n",
    "\n",
    "test1 = beta(Y,X,0)"
   ]
  },
  {
   "cell_type": "code",
   "execution_count": 405,
   "metadata": {},
   "outputs": [],
   "source": [
    "result = test1\n",
    "for k in np.arange(0.001,1.001,0.001):\n",
    "    result = np.hstack((result,beta(Y,X,k)))"
   ]
  },
  {
   "cell_type": "markdown",
   "metadata": {},
   "source": [
    "### 岭迹图"
   ]
  },
  {
   "cell_type": "code",
   "execution_count": 406,
   "metadata": {},
   "outputs": [
    {
     "data": {
      "image/png": "[encoded data removed]",
      "text/plain": [
       "<Figure size 432x288 with 1 Axes>"
      ]
     },
     "metadata": {
      "needs_background": "light"
     },
     "output_type": "display_data"
    }
   ],
   "source": [
    "n = np.arange(0,1.001,0.001)\n",
    "plt.plot(n,result[0,:],'k',linewidth=1.0)\n",
    "plt.plot(n,result[1,:],'b',linewidth=1.0)\n",
    "plt.plot(n,result[2,:],'g',linewidth=1.0)\n",
    "plt.xlim(0, 1)\n",
    "plt.ylim(-0.4,1)\n",
    "ax = plt.gca()\n",
    "ax.spines['bottom'].set_position(('data', 0))\n",
    "ax.spines['left'].set_position(('data', 0))\n",
    "for key, spine in ax.spines.items():\n",
    "    # 'left', 'right', 'bottom', 'top'\n",
    "    if key == 'right' or key == 'top':\n",
    "        spine.set_visible(False)\n",
    "plt.show()"
   ]
  },
  {
   "cell_type": "code",
   "execution_count": 407,
   "metadata": {},
   "outputs": [
    {
     "data": {
      "text/plain": [
       "array([-0.33934263, -0.11744584,  0.00974265, ...,  0.31945596,\n",
       "        0.31935144,  0.31924699])"
      ]
     },
     "execution_count": 407,
     "metadata": {},
     "output_type": "execute_result"
    }
   ],
   "source": [
    "result[0,:]"
   ]
  },
  {
   "cell_type": "code",
   "execution_count": 408,
   "metadata": {},
   "outputs": [
    {
     "data": {
      "text/plain": [
       "array([0.21304844, 0.21503238, 0.21608289, ..., 0.11556477, 0.11551026,\n",
       "       0.11545581])"
      ]
     },
     "execution_count": 408,
     "metadata": {},
     "output_type": "execute_result"
    }
   ],
   "source": [
    "result[1,:]"
   ]
  },
  {
   "cell_type": "markdown",
   "metadata": {},
   "source": [
    "### 挑选k值"
   ]
  },
  {
   "cell_type": "code",
   "execution_count": 393,
   "metadata": {},
   "outputs": [],
   "source": [
    "beta0 = result[:,0]\n",
    "resid = Y - np.dot(X,beta0)\n",
    "sigma0 = sum(resid**2)/(len(resid)-3)"
   ]
  },
  {
   "cell_type": "code",
   "execution_count": 394,
   "metadata": {},
   "outputs": [
    {
     "data": {
      "text/plain": [
       "0.0010129309930369441"
      ]
     },
     "execution_count": 394,
     "metadata": {},
     "output_type": "execute_result"
    }
   ],
   "source": [
    "sigma0"
   ]
  },
  {
   "cell_type": "code",
   "execution_count": 395,
   "metadata": {},
   "outputs": [
    {
     "data": {
      "text/plain": [
       "0.00163593900727845"
      ]
     },
     "execution_count": 395,
     "metadata": {},
     "output_type": "execute_result"
    }
   ],
   "source": [
    "k0 = 3*sigma0/sum(beta0**2)\n",
    "k0"
   ]
  },
  {
   "cell_type": "code",
   "execution_count": 396,
   "metadata": {},
   "outputs": [
    {
     "data": {
      "text/plain": [
       "0.008103447944295553"
      ]
     },
     "execution_count": 396,
     "metadata": {},
     "output_type": "execute_result"
    }
   ],
   "source": [
    "sum(resid**2)\n",
    "#书上用的是标准化数据做的后序分析，但是岭回归是使用单位化数据得出来的结果。。。书上似乎有错"
   ]
  },
  {
   "cell_type": "code",
   "execution_count": 416,
   "metadata": {},
   "outputs": [],
   "source": [
    "b = beta(Y,X,0.04)"
   ]
  },
  {
   "cell_type": "code",
   "execution_count": 418,
   "metadata": {},
   "outputs": [
    {
     "data": {
      "text/plain": [
       "array([[0.41955305],\n",
       "       [0.21267025],\n",
       "       [0.52488286]])"
      ]
     },
     "execution_count": 418,
     "metadata": {},
     "output_type": "execute_result"
    }
   ],
   "source": [
    "b"
   ]
  },
  {
   "cell_type": "code",
   "execution_count": 417,
   "metadata": {},
   "outputs": [
    {
     "data": {
      "text/plain": [
       "array([0.06354467])"
      ]
     },
     "execution_count": 417,
     "metadata": {},
     "output_type": "execute_result"
    }
   ],
   "source": [
    "#beta1\n",
    "sy/sx[0]*b[0]"
   ]
  },
  {
   "cell_type": "code",
   "execution_count": 442,
   "metadata": {},
   "outputs": [
    {
     "data": {
      "text/plain": [
       "array([0.58590713])"
      ]
     },
     "execution_count": 442,
     "metadata": {},
     "output_type": "execute_result"
    }
   ],
   "source": [
    "#beta2\n",
    "sy/sx[1]*b[1]"
   ]
  },
  {
   "cell_type": "markdown",
   "metadata": {},
   "source": [
    "### 调包"
   ]
  },
  {
   "cell_type": "code",
   "execution_count": 419,
   "metadata": {},
   "outputs": [],
   "source": [
    "from sklearn.linear_model import Ridge,RidgeCV"
   ]
  },
  {
   "cell_type": "code",
   "execution_count": 439,
   "metadata": {},
   "outputs": [],
   "source": [
    "model = Ridge(alpha=0.04,normalize=True)"
   ]
  },
  {
   "cell_type": "code",
   "execution_count": 460,
   "metadata": {},
   "outputs": [
    {
     "data": {
      "text/plain": [
       "Ridge(alpha=0.04, copy_X=True, fit_intercept=True, max_iter=None,\n",
       "   normalize=True, random_state=None, solver='auto', tol=0.001)"
      ]
     },
     "execution_count": 460,
     "metadata": {},
     "output_type": "execute_result"
    }
   ],
   "source": [
    "model.fit(Import_data[[\"DOPROD\",\"STOCK\",\"CONSUM\"]].values,Import_data.IMPORT.values)"
   ]
  },
  {
   "cell_type": "code",
   "execution_count": 464,
   "metadata": {},
   "outputs": [
    {
     "data": {
      "text/plain": [
       "-8.5583165975305"
      ]
     },
     "execution_count": 464,
     "metadata": {},
     "output_type": "execute_result"
    }
   ],
   "source": [
    "model.intercept_"
   ]
  },
  {
   "cell_type": "code",
   "execution_count": null,
   "metadata": {},
   "outputs": [],
   "source": [
    "#这个包没有计算VIFk、SSEk、岭迹图的功能，需要自己写函数。。。。bad。。。"
   ]
  }
 ],
 "metadata": {
  "kernelspec": {
   "display_name": "Python 3",
   "language": "python",
   "name": "python3"
  },
  "language_info": {
   "codemirror_mode": {
    "name": "ipython",
    "version": 3
   },
   "file_extension": ".py",
   "mimetype": "text/x-python",
   "name": "python",
   "nbconvert_exporter": "python",
   "pygments_lexer": "ipython3",
   "version": "3.7.2"
  }
 },
 "nbformat": 4,
 "nbformat_minor": 2
}
